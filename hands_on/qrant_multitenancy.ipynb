{
 "cells": [
  {
   "cell_type": "code",
   "execution_count": 3,
   "id": "dca7aa80",
   "metadata": {},
   "outputs": [],
   "source": [
    "from qdrant_client.http.models import VectorParams\n",
    "from qdrant_client import QdrantClient, models\n",
    "\n",
    "from dotenv import load_dotenv\n",
    "\n",
    "load_dotenv(\"/datadrive/CuongHV/project/ownllm/.env\")\n",
    "\n",
    "# Initialize Qdrant client\n",
    "client = QdrantClient(host=\"10.10.193.73\", port=6333, grpc_port=6334)\n"
   ]
  },
  {
   "cell_type": "code",
   "execution_count": null,
   "id": "18391227",
   "metadata": {},
   "outputs": [],
   "source": [
    "from llama_index.vector_stores.qdrant import QdrantVectorStore\n",
    "from llama_index.core import VectorStoreIndex\n",
    "\n",
    "# Initialize QdrantVectorStore\n",
    "vector_store = QdrantVectorStore(\n",
    "    client=client,\n",
    "    collection_name=\"example_collection\"\n",
    ")\n",
    "from qdrant_client import models\n",
    "\n"
   ]
  },
  {
   "cell_type": "code",
   "execution_count": null,
   "id": "2e750fbe",
   "metadata": {},
   "outputs": [],
   "source": [
    " # Upload data to Qdrant\n",
    "index = VectorStoreIndex.from_vector_store(vector_store)\n",
    "\n",
    "from llama_index.core.schema import Document\n",
    "\n",
    "documents = [\n",
    "    Document(\n",
    "        text=\"LlamaIndex is a simple, flexible data framework for connecting custom data sources to large language models.\",\n",
    "        metadata={\n",
    "            \"library\": \"llama-index\",\n",
    "        },\n",
    "    ),\n",
    "    Document(\n",
    "        text=\"Qdrant is a vector database & vector similarity search engine.\",\n",
    "        metadata={\n",
    "            \"library\": \"qdrant\",\n",
    "        },\n",
    "    ),\n",
    "]"
   ]
  },
  {
   "cell_type": "code",
   "execution_count": null,
   "id": "129ea72b",
   "metadata": {},
   "outputs": [],
   "source": [
    "for document in documents:\n",
    "    index.insert(document)"
   ]
  },
  {
   "cell_type": "code",
   "execution_count": null,
   "id": "0f50d30a",
   "metadata": {},
   "outputs": [],
   "source": [
    "client.create_payload_index(\n",
    "    collection_name=\"example_collection\",\n",
    "    field_name=\"metadata.library\",\n",
    "    field_type=models.PayloadSchemaType.KEYWORD,\n",
    ")\n"
   ]
  },
  {
   "cell_type": "code",
   "execution_count": null,
   "id": "651ec832",
   "metadata": {},
   "outputs": [],
   "source": [
    "from llama_index.core.vector_stores.types import MetadataFilters, ExactMatchFilter\n",
    "\n",
    "qdrant_retriever = index.as_retriever(\n",
    "    filters=MetadataFilters(\n",
    "        filters=[\n",
    "            ExactMatchFilter(\n",
    "                key=\"library\",\n",
    "                value=\"qdrant\",\n",
    "            )\n",
    "        ]\n",
    "    )\n",
    ")\n",
    "\n",
    "nodes_with_scores = qdrant_retriever.retrieve(\"large language models\")\n",
    "for node in nodes_with_scores:\n",
    "    print(node.text, node.score)"
   ]
  },
  {
   "cell_type": "code",
   "execution_count": null,
   "id": "d1443a3c",
   "metadata": {},
   "outputs": [],
   "source": [
    "from qdrant_client import QdrantClient, models\n",
    "\n",
    "sampled = client.query_points(\n",
    "    collection_name=\"Llama_da9b7bb158e64c93bea491df09894psd\",\n",
    "    query=models.SampleQuery(sample=models.Sample.RANDOM)\n",
    ")\n",
    "sampled \n"
   ]
  },
  {
   "cell_type": "code",
   "execution_count": null,
   "id": "7ab16ef9",
   "metadata": {},
   "outputs": [],
   "source": [
    "client.query_points(\n",
    "    collection_name=\"Llama_da9b7bb158e64c93bea491df09894psd\",\n",
    "    query=\"00053c8b-3546-4f49-9349-1d7e31e70e3a\", # <--- point id\n",
    ")"
   ]
  },
  {
   "cell_type": "code",
   "execution_count": 23,
   "id": "7684bc98",
   "metadata": {},
   "outputs": [
    {
     "name": "stdout",
     "output_type": "stream",
     "text": [
      "([Record(id='00053c8b-3546-4f49-9349-1d7e31e70e3a', payload={'page_label': '13', 'file_name': 'Multimodal AI Innovation for Meeting Assistants System.pdf', 'tenant_name': 'deploy_mind_af9cecb26ff34a2f9569471f800a6e87', '_node_content': '{\"id_\": \"00053c8b-3546-4f49-9349-1d7e31e70e3a\", \"embedding\": null, \"metadata\": {\"page_label\": \"13\", \"file_name\": \"Multimodal AI Innovation for Meeting Assistants System.pdf\", \"tenant_name\": \"deploy_mind_af9cecb26ff34a2f9569471f800a6e87\"}, \"excluded_embed_metadata_keys\": [\"file_name\", \"file_type\", \"file_size\", \"creation_date\", \"last_modified_date\", \"last_accessed_date\"], \"excluded_llm_metadata_keys\": [\"file_name\", \"file_type\", \"file_size\", \"creation_date\", \"last_modified_date\", \"last_accessed_date\"], \"relationships\": {\"1\": {\"node_id\": \"c0b6f0cf-a120-4d4d-8ec9-5206a1db1bd0\", \"node_type\": \"4\", \"metadata\": {\"page_label\": \"13\", \"file_name\": \"Multimodal AI Innovation for Meeting Assistants System.pdf\"}, \"hash\": \"08536c5f7a4749bee8c318ba06810d4e9e45eaf43ae1fd0252190cd7686d024a\", \"class_name\": \"RelatedNodeInfo\"}}, \"metadata_template\": \"{key}: {value}\", \"metadata_separator\": \"\\\\n\", \"text\": \"kyanon.digital\\\\nkyanon.digital\\\\nAppendix \\\\nTop Conferences for LLM:\\\\n1. NeurIPS (Conference on Neural Information Processing Systems) - http://nips.cc/\\\\n2. ICML (International Conference on Machine Learning) - https://icml.cc/\\\\n3. ACL (Association for Computational Linguistics) - https://www.aclweb.org/portal/ \\\\n4. EMNLP (Empirical Methods in Natural Language Processing) - https://2024.emnlp.org/ \\\\n5. CVPR / ICCV / ECCV (for vision-language models or multimodal LLMs) - https://cvpr.thecvf.com/ \\\\n6. ICLR (International Conference on Learning Representations) - https://iclr.cc/\", \"mimetype\": \"text/plain\", \"start_char_idx\": 0, \"end_char_idx\": 573, \"metadata_seperator\": \"\\\\n\", \"text_template\": \"{metadata_str}\\\\n\\\\n{content}\", \"class_name\": \"TextNode\"}', '_node_type': 'TextNode', 'document_id': 'c0b6f0cf-a120-4d4d-8ec9-5206a1db1bd0', 'doc_id': 'c0b6f0cf-a120-4d4d-8ec9-5206a1db1bd0', 'ref_doc_id': 'c0b6f0cf-a120-4d4d-8ec9-5206a1db1bd0'}, vector=None, shard_key=None, order_value=None), Record(id='28d138d7-37b1-4ad2-b3c9-ef5f7fe9f285', payload={'page_label': '3', 'file_name': 'Multimodal AI Innovation for Meeting Assistants System.pdf', 'tenant_name': 'deploy_mind_af9cecb26ff34a2f9569471f800a6e87', '_node_content': '{\"id_\": \"28d138d7-37b1-4ad2-b3c9-ef5f7fe9f285\", \"embedding\": null, \"metadata\": {\"page_label\": \"3\", \"file_name\": \"Multimodal AI Innovation for Meeting Assistants System.pdf\", \"tenant_name\": \"deploy_mind_af9cecb26ff34a2f9569471f800a6e87\"}, \"excluded_embed_metadata_keys\": [\"file_name\", \"file_type\", \"file_size\", \"creation_date\", \"last_modified_date\", \"last_accessed_date\"], \"excluded_llm_metadata_keys\": [\"file_name\", \"file_type\", \"file_size\", \"creation_date\", \"last_modified_date\", \"last_accessed_date\"], \"relationships\": {\"1\": {\"node_id\": \"b232d857-4cb6-4648-8555-069f66a1c13c\", \"node_type\": \"4\", \"metadata\": {\"page_label\": \"3\", \"file_name\": \"Multimodal AI Innovation for Meeting Assistants System.pdf\"}, \"hash\": \"efeb709ba1e2df44b0c684ff5fce6036bde42d33f158a3cb0915ddfde2c28dca\", \"class_name\": \"RelatedNodeInfo\"}}, \"metadata_template\": \"{key}: {value}\", \"metadata_separator\": \"\\\\n\", \"text\": \"kyanon.digital\\\\nkyanon.digital\\\\nIntroduction\\\\nOur product\", \"mimetype\": \"text/plain\", \"start_char_idx\": 0, \"end_char_idx\": 54, \"metadata_seperator\": \"\\\\n\", \"text_template\": \"{metadata_str}\\\\n\\\\n{content}\", \"class_name\": \"TextNode\"}', '_node_type': 'TextNode', 'document_id': 'b232d857-4cb6-4648-8555-069f66a1c13c', 'doc_id': 'b232d857-4cb6-4648-8555-069f66a1c13c', 'ref_doc_id': 'b232d857-4cb6-4648-8555-069f66a1c13c'}, vector=None, shard_key=None, order_value=None), Record(id='2af2fe7e-af03-4671-92cd-911e6f87d71c', payload={'page_label': '14', 'file_name': 'Multimodal AI Innovation for Meeting Assistants System.pdf', 'tenant_name': 'deploy_mind_af9cecb26ff34a2f9569471f800a6e87', '_node_content': '{\"id_\": \"2af2fe7e-af03-4671-92cd-911e6f87d71c\", \"embedding\": null, \"metadata\": {\"page_label\": \"14\", \"file_name\": \"Multimodal AI Innovation for Meeting Assistants System.pdf\", \"tenant_name\": \"deploy_mind_af9cecb26ff34a2f9569471f800a6e87\"}, \"excluded_embed_metadata_keys\": [\"file_name\", \"file_type\", \"file_size\", \"creation_date\", \"last_modified_date\", \"last_accessed_date\"], \"excluded_llm_metadata_keys\": [\"file_name\", \"file_type\", \"file_size\", \"creation_date\", \"last_modified_date\", \"last_accessed_date\"], \"relationships\": {\"1\": {\"node_id\": \"e02d04f9-3138-4a09-9749-9b036b7b6561\", \"node_type\": \"4\", \"metadata\": {\"page_label\": \"14\", \"file_name\": \"Multimodal AI Innovation for Meeting Assistants System.pdf\"}, \"hash\": \"60f4c93e9fd3c3bf2aa33997dd10742f11966bb3b26f85e795f3cf9d0cfe7c2f\", \"class_name\": \"RelatedNodeInfo\"}}, \"metadata_template\": \"{key}: {value}\", \"metadata_separator\": \"\\\\n\", \"text\": \"kyanon.digital\\\\nThank you!\", \"mimetype\": \"text/plain\", \"start_char_idx\": 0, \"end_char_idx\": 25, \"metadata_seperator\": \"\\\\n\", \"text_template\": \"{metadata_str}\\\\n\\\\n{content}\", \"class_name\": \"TextNode\"}', '_node_type': 'TextNode', 'document_id': 'e02d04f9-3138-4a09-9749-9b036b7b6561', 'doc_id': 'e02d04f9-3138-4a09-9749-9b036b7b6561', 'ref_doc_id': 'e02d04f9-3138-4a09-9749-9b036b7b6561'}, vector=None, shard_key=None, order_value=None), Record(id='2b721599-4070-4780-b6f1-e0bca6fd896e', payload={'page_label': '2', 'file_name': 'Multimodal AI Innovation for Meeting Assistants System.pdf', 'tenant_name': 'deploy_mind_af9cecb26ff34a2f9569471f800a6e87', '_node_content': '{\"id_\": \"2b721599-4070-4780-b6f1-e0bca6fd896e\", \"embedding\": null, \"metadata\": {\"page_label\": \"2\", \"file_name\": \"Multimodal AI Innovation for Meeting Assistants System.pdf\", \"tenant_name\": \"deploy_mind_af9cecb26ff34a2f9569471f800a6e87\"}, \"excluded_embed_metadata_keys\": [\"file_name\", \"file_type\", \"file_size\", \"creation_date\", \"last_modified_date\", \"last_accessed_date\"], \"excluded_llm_metadata_keys\": [\"file_name\", \"file_type\", \"file_size\", \"creation_date\", \"last_modified_date\", \"last_accessed_date\"], \"relationships\": {\"1\": {\"node_id\": \"bd65c288-d89e-4ecf-a1ee-809c74ed8e38\", \"node_type\": \"4\", \"metadata\": {\"page_label\": \"2\", \"file_name\": \"Multimodal AI Innovation for Meeting Assistants System.pdf\"}, \"hash\": \"00acaa05a50287173ae29d0543ae2f0a75958d6ac3c79627da19481d4b26e8af\", \"class_name\": \"RelatedNodeInfo\"}}, \"metadata_template\": \"{key}: {value}\", \"metadata_separator\": \"\\\\n\", \"text\": \"kyanon.digital\\\\nkyanon.digital\\\\nAgenda\\\\n- Introduction\\\\n- Objectives and Achievements \\\\n- Some research tools\\\\n- Next step\", \"mimetype\": \"text/plain\", \"start_char_idx\": 0, \"end_char_idx\": 116, \"metadata_seperator\": \"\\\\n\", \"text_template\": \"{metadata_str}\\\\n\\\\n{content}\", \"class_name\": \"TextNode\"}', '_node_type': 'TextNode', 'document_id': 'bd65c288-d89e-4ecf-a1ee-809c74ed8e38', 'doc_id': 'bd65c288-d89e-4ecf-a1ee-809c74ed8e38', 'ref_doc_id': 'bd65c288-d89e-4ecf-a1ee-809c74ed8e38'}, vector=None, shard_key=None, order_value=None), Record(id='505ca5ff-8f54-48f1-83ff-d8fc361f9cb8', payload={'page_label': '7', 'file_name': 'Multimodal AI Innovation for Meeting Assistants System.pdf', 'tenant_name': 'deploy_mind_af9cecb26ff34a2f9569471f800a6e87', '_node_content': '{\"id_\": \"505ca5ff-8f54-48f1-83ff-d8fc361f9cb8\", \"embedding\": null, \"metadata\": {\"page_label\": \"7\", \"file_name\": \"Multimodal AI Innovation for Meeting Assistants System.pdf\", \"tenant_name\": \"deploy_mind_af9cecb26ff34a2f9569471f800a6e87\"}, \"excluded_embed_metadata_keys\": [\"file_name\", \"file_type\", \"file_size\", \"creation_date\", \"last_modified_date\", \"last_accessed_date\"], \"excluded_llm_metadata_keys\": [\"file_name\", \"file_type\", \"file_size\", \"creation_date\", \"last_modified_date\", \"last_accessed_date\"], \"relationships\": {\"1\": {\"node_id\": \"6cef420c-df4f-4a9f-bbda-53fa96402617\", \"node_type\": \"4\", \"metadata\": {\"page_label\": \"7\", \"file_name\": \"Multimodal AI Innovation for Meeting Assistants System.pdf\"}, \"hash\": \"4fc823491e6d76ac774fcd329b7e44bb2430c79d6b1ed60f160f53794f68a257\", \"class_name\": \"RelatedNodeInfo\"}}, \"metadata_template\": \"{key}: {value}\", \"metadata_separator\": \"\\\\n\", \"text\": \"kyanon.digital\\\\nkyanon.digital\\\\nObjectives and Achievements\\\\nRaw dataset KD Meeting \\\\nCorpus Base methods Your proposal\\\\nBenchmarksReviewing the \\\\nliterature \\\\nYour \\\\npresentations\\\\nThe KD Meeting Corpus is a multimodal dataset of \\\\nmeetings at KD, capturing cameras. Recorded in \\\\nVietnamese, it features real-world interactions \\\\nannotated with transcriptions, dialogue acts, and the \\\\ntopics. Designed for internal use, it supports \\\\nresearch in meeting analysis and R&D optimization.\\\\nMilestone 1 \\\\nMilestone 2 \\\\nMilestone 3 \\\\nYour Outstanding\\\\nResearch topic\", \"mimetype\": \"text/plain\", \"start_char_idx\": 0, \"end_char_idx\": 544, \"metadata_seperator\": \"\\\\n\", \"text_template\": \"{metadata_str}\\\\n\\\\n{content}\", \"class_name\": \"TextNode\"}', '_node_type': 'TextNode', 'document_id': '6cef420c-df4f-4a9f-bbda-53fa96402617', 'doc_id': '6cef420c-df4f-4a9f-bbda-53fa96402617', 'ref_doc_id': '6cef420c-df4f-4a9f-bbda-53fa96402617'}, vector=None, shard_key=None, order_value=None), Record(id='50d23bd2-df6e-4e22-818b-c838486147bb', payload={'page_label': '10', 'file_name': 'Multimodal AI Innovation for Meeting Assistants System.pdf', 'tenant_name': 'deploy_mind_af9cecb26ff34a2f9569471f800a6e87', '_node_content': '{\"id_\": \"50d23bd2-df6e-4e22-818b-c838486147bb\", \"embedding\": null, \"metadata\": {\"page_label\": \"10\", \"file_name\": \"Multimodal AI Innovation for Meeting Assistants System.pdf\", \"tenant_name\": \"deploy_mind_af9cecb26ff34a2f9569471f800a6e87\"}, \"excluded_embed_metadata_keys\": [\"file_name\", \"file_type\", \"file_size\", \"creation_date\", \"last_modified_date\", \"last_accessed_date\"], \"excluded_llm_metadata_keys\": [\"file_name\", \"file_type\", \"file_size\", \"creation_date\", \"last_modified_date\", \"last_accessed_date\"], \"relationships\": {\"1\": {\"node_id\": \"1f5e0341-a263-4725-8c4d-579ccb40aee4\", \"node_type\": \"4\", \"metadata\": {\"page_label\": \"10\", \"file_name\": \"Multimodal AI Innovation for Meeting Assistants System.pdf\"}, \"hash\": \"e5356b23b9b14f6bede5977f880461a6ac1b2c0a28e93fb27efec41eac222f68\", \"class_name\": \"RelatedNodeInfo\"}}, \"metadata_template\": \"{key}: {value}\", \"metadata_separator\": \"\\\\n\", \"text\": \"kyanon.digital\\\\nkyanon.digital\\\\nSome Research Tools\\\\nRef:\\\\n1. https://scite.ai/ \\\\n2. https://app.dimensions.ai/ \\\\nScite.ai Dimensions.ai\", \"mimetype\": \"text/plain\", \"start_char_idx\": 0, \"end_char_idx\": 130, \"metadata_seperator\": \"\\\\n\", \"text_template\": \"{metadata_str}\\\\n\\\\n{content}\", \"class_name\": \"TextNode\"}', '_node_type': 'TextNode', 'document_id': '1f5e0341-a263-4725-8c4d-579ccb40aee4', 'doc_id': '1f5e0341-a263-4725-8c4d-579ccb40aee4', 'ref_doc_id': '1f5e0341-a263-4725-8c4d-579ccb40aee4'}, vector=None, shard_key=None, order_value=None), Record(id='66d122c1-9464-424e-b0db-8403820bcec0', payload={'page_label': '1', 'file_name': 'Multimodal AI Innovation for Meeting Assistants System.pdf', 'tenant_name': 'deploy_mind_af9cecb26ff34a2f9569471f800a6e87', '_node_content': '{\"id_\": \"66d122c1-9464-424e-b0db-8403820bcec0\", \"embedding\": null, \"metadata\": {\"page_label\": \"1\", \"file_name\": \"Multimodal AI Innovation for Meeting Assistants System.pdf\", \"tenant_name\": \"deploy_mind_af9cecb26ff34a2f9569471f800a6e87\"}, \"excluded_embed_metadata_keys\": [\"file_name\", \"file_type\", \"file_size\", \"creation_date\", \"last_modified_date\", \"last_accessed_date\"], \"excluded_llm_metadata_keys\": [\"file_name\", \"file_type\", \"file_size\", \"creation_date\", \"last_modified_date\", \"last_accessed_date\"], \"relationships\": {\"1\": {\"node_id\": \"e067499f-6269-4ba7-bddf-04823aa7de73\", \"node_type\": \"4\", \"metadata\": {\"page_label\": \"1\", \"file_name\": \"Multimodal AI Innovation for Meeting Assistants System.pdf\"}, \"hash\": \"3b283c3b13f6fe9502e43c35671bf5f360986cae97eb797588755a4df43a3f20\", \"class_name\": \"RelatedNodeInfo\"}}, \"metadata_template\": \"{key}: {value}\", \"metadata_separator\": \"\\\\n\", \"text\": \"kyanon.digital\\\\nMultimodal AI Innovation \\\\nfor Meeting Assistants \\\\nSystem\\\\nAI K-FRESH\\\\nVersion 1.0\\\\n2025\\\\ncuong.hv@kyanon.digital\", \"mimetype\": \"text/plain\", \"start_char_idx\": 0, \"end_char_idx\": 123, \"metadata_seperator\": \"\\\\n\", \"text_template\": \"{metadata_str}\\\\n\\\\n{content}\", \"class_name\": \"TextNode\"}', '_node_type': 'TextNode', 'document_id': 'e067499f-6269-4ba7-bddf-04823aa7de73', 'doc_id': 'e067499f-6269-4ba7-bddf-04823aa7de73', 'ref_doc_id': 'e067499f-6269-4ba7-bddf-04823aa7de73'}, vector=None, shard_key=None, order_value=None), Record(id='773b69bf-5850-4660-a066-eb2b2145fd9e', payload={'page_label': '4', 'file_name': 'Multimodal AI Innovation for Meeting Assistants System.pdf', 'tenant_name': 'deploy_mind_af9cecb26ff34a2f9569471f800a6e87', '_node_content': '{\"id_\": \"773b69bf-5850-4660-a066-eb2b2145fd9e\", \"embedding\": null, \"metadata\": {\"page_label\": \"4\", \"file_name\": \"Multimodal AI Innovation for Meeting Assistants System.pdf\", \"tenant_name\": \"deploy_mind_af9cecb26ff34a2f9569471f800a6e87\"}, \"excluded_embed_metadata_keys\": [\"file_name\", \"file_type\", \"file_size\", \"creation_date\", \"last_modified_date\", \"last_accessed_date\"], \"excluded_llm_metadata_keys\": [\"file_name\", \"file_type\", \"file_size\", \"creation_date\", \"last_modified_date\", \"last_accessed_date\"], \"relationships\": {\"1\": {\"node_id\": \"935ae6be-6a97-4315-b8a3-6aa831bd13b9\", \"node_type\": \"4\", \"metadata\": {\"page_label\": \"4\", \"file_name\": \"Multimodal AI Innovation for Meeting Assistants System.pdf\"}, \"hash\": \"35e9920488a0b44be55b26a7d685ee64932136c3e12c41bd7ab6d6809f1dc000\", \"class_name\": \"RelatedNodeInfo\"}}, \"metadata_template\": \"{key}: {value}\", \"metadata_separator\": \"\\\\n\", \"text\": \"kyanon.digital\\\\nkyanon.digital\\\\nIntroduction \\\\nResearch insights accelerate Product impact \\\\nand Product challenges guide Research relevance\", \"mimetype\": \"text/plain\", \"start_char_idx\": 0, \"end_char_idx\": 136, \"metadata_seperator\": \"\\\\n\", \"text_template\": \"{metadata_str}\\\\n\\\\n{content}\", \"class_name\": \"TextNode\"}', '_node_type': 'TextNode', 'document_id': '935ae6be-6a97-4315-b8a3-6aa831bd13b9', 'doc_id': '935ae6be-6a97-4315-b8a3-6aa831bd13b9', 'ref_doc_id': '935ae6be-6a97-4315-b8a3-6aa831bd13b9'}, vector=None, shard_key=None, order_value=None), Record(id='80d98d31-0965-4bb2-abb4-40b136c0f8e7', payload={'page_label': '8', 'file_name': 'Multimodal AI Innovation for Meeting Assistants System.pdf', 'tenant_name': 'deploy_mind_af9cecb26ff34a2f9569471f800a6e87', '_node_content': '{\"id_\": \"80d98d31-0965-4bb2-abb4-40b136c0f8e7\", \"embedding\": null, \"metadata\": {\"page_label\": \"8\", \"file_name\": \"Multimodal AI Innovation for Meeting Assistants System.pdf\", \"tenant_name\": \"deploy_mind_af9cecb26ff34a2f9569471f800a6e87\"}, \"excluded_embed_metadata_keys\": [\"file_name\", \"file_type\", \"file_size\", \"creation_date\", \"last_modified_date\", \"last_accessed_date\"], \"excluded_llm_metadata_keys\": [\"file_name\", \"file_type\", \"file_size\", \"creation_date\", \"last_modified_date\", \"last_accessed_date\"], \"relationships\": {\"1\": {\"node_id\": \"d3b6aca8-bd86-4e8b-8158-9bbfad8eecf5\", \"node_type\": \"4\", \"metadata\": {\"page_label\": \"8\", \"file_name\": \"Multimodal AI Innovation for Meeting Assistants System.pdf\"}, \"hash\": \"7f978ff9111383ae00a231f80e0fd56d56d56ef890e7f8004571d06bbf146d84\", \"class_name\": \"RelatedNodeInfo\"}}, \"metadata_template\": \"{key}: {value}\", \"metadata_separator\": \"\\\\n\", \"text\": \"kyanon.digital\\\\nkyanon.digital\\\\nSome Research Tools\\\\nRef:\\\\n1. Web-app: https://pasa-agent.ai/ \\\\n2. Paper: https://arxiv.org/pdf/2501.10120 \\\\nPaSa: Find papers from your queries\\\\nExample Query: Could you provide me some \\\\nstudies that using LLM for meeting\", \"mimetype\": \"text/plain\", \"start_char_idx\": 0, \"end_char_idx\": 247, \"metadata_seperator\": \"\\\\n\", \"text_template\": \"{metadata_str}\\\\n\\\\n{content}\", \"class_name\": \"TextNode\"}', '_node_type': 'TextNode', 'document_id': 'd3b6aca8-bd86-4e8b-8158-9bbfad8eecf5', 'doc_id': 'd3b6aca8-bd86-4e8b-8158-9bbfad8eecf5', 'ref_doc_id': 'd3b6aca8-bd86-4e8b-8158-9bbfad8eecf5'}, vector=None, shard_key=None, order_value=None), Record(id='8678e08c-5024-4a7a-8def-d4eab8565732', payload={'page_label': '6', 'file_name': 'Multimodal AI Innovation for Meeting Assistants System.pdf', 'tenant_name': 'deploy_mind_af9cecb26ff34a2f9569471f800a6e87', '_node_content': '{\"id_\": \"8678e08c-5024-4a7a-8def-d4eab8565732\", \"embedding\": null, \"metadata\": {\"page_label\": \"6\", \"file_name\": \"Multimodal AI Innovation for Meeting Assistants System.pdf\", \"tenant_name\": \"deploy_mind_af9cecb26ff34a2f9569471f800a6e87\"}, \"excluded_embed_metadata_keys\": [\"file_name\", \"file_type\", \"file_size\", \"creation_date\", \"last_modified_date\", \"last_accessed_date\"], \"excluded_llm_metadata_keys\": [\"file_name\", \"file_type\", \"file_size\", \"creation_date\", \"last_modified_date\", \"last_accessed_date\"], \"relationships\": {\"1\": {\"node_id\": \"44d8b045-ca87-4c72-aaa3-f438be39f0ac\", \"node_type\": \"4\", \"metadata\": {\"page_label\": \"6\", \"file_name\": \"Multimodal AI Innovation for Meeting Assistants System.pdf\"}, \"hash\": \"817b930737506b51cbd1a31871bca514a1fab4e28676015fc0ca497764d4bbae\", \"class_name\": \"RelatedNodeInfo\"}}, \"metadata_template\": \"{key}: {value}\", \"metadata_separator\": \"\\\\n\", \"text\": \"kyanon.digital\\\\nkyanon.digital\\\\nIntroduction\\\\nA Research Circle\\\\nPOSEIDON\\\\nWE, HERE!\\\\n\\\\u201cB\\\\u00c3I \\\\u0110\\\\u00c1P\\\\\"\", \"mimetype\": \"text/plain\", \"start_char_idx\": 0, \"end_char_idx\": 89, \"metadata_seperator\": \"\\\\n\", \"text_template\": \"{metadata_str}\\\\n\\\\n{content}\", \"class_name\": \"TextNode\"}', '_node_type': 'TextNode', 'document_id': '44d8b045-ca87-4c72-aaa3-f438be39f0ac', 'doc_id': '44d8b045-ca87-4c72-aaa3-f438be39f0ac', 'ref_doc_id': '44d8b045-ca87-4c72-aaa3-f438be39f0ac'}, vector=None, shard_key=None, order_value=None), Record(id='8b8f6c42-789c-42d7-8e6a-d0accdbd8da3', payload={'page_label': '12', 'file_name': 'Multimodal AI Innovation for Meeting Assistants System.pdf', 'tenant_name': 'deploy_mind_af9cecb26ff34a2f9569471f800a6e87', '_node_content': '{\"id_\": \"8b8f6c42-789c-42d7-8e6a-d0accdbd8da3\", \"embedding\": null, \"metadata\": {\"page_label\": \"12\", \"file_name\": \"Multimodal AI Innovation for Meeting Assistants System.pdf\", \"tenant_name\": \"deploy_mind_af9cecb26ff34a2f9569471f800a6e87\"}, \"excluded_embed_metadata_keys\": [\"file_name\", \"file_type\", \"file_size\", \"creation_date\", \"last_modified_date\", \"last_accessed_date\"], \"excluded_llm_metadata_keys\": [\"file_name\", \"file_type\", \"file_size\", \"creation_date\", \"last_modified_date\", \"last_accessed_date\"], \"relationships\": {\"1\": {\"node_id\": \"2a5e3fb6-998e-4d42-b6a0-f7d3553bb4e1\", \"node_type\": \"4\", \"metadata\": {\"page_label\": \"12\", \"file_name\": \"Multimodal AI Innovation for Meeting Assistants System.pdf\"}, \"hash\": \"90cfad08a47ae43328142fabb77d32aef7c0074fd31401d127674bce74c771a9\", \"class_name\": \"RelatedNodeInfo\"}}, \"metadata_template\": \"{key}: {value}\", \"metadata_separator\": \"\\\\n\", \"text\": \"kyanon.digital\\\\nkyanon.digital\\\\nNext step\\\\n\\\\u25cb Year of publication\\\\n\\\\u25cb Journal / Conference\\\\n\\\\u25cb Title \\\\n\\\\u25cb Author\\\\n\\\\u25cb Dataset\\\\n\\\\u25cb Problems / Research gaps addressed in \\\\nresearch paper\\\\n\\\\u25cb Purpose/Motivation/Application\\\\n\\\\u25cb Preprocessing techniques used\\\\n\\\\u25cb Algorithms used\\\\n\\\\u25cb Evaluation metrics used \\\\n\\\\u25cb Summary in your own words\\\\n\\\\u25cb Any future recommendations suggested \\\\nin the research paper/ Research gaps that \\\\nyou may identify\\\\n\\\\u25cb Any specific remarks regarding the \\\\nresearch papers that you may want to \\\\nrefer to at a later point in time\\\\nSample format: ReferencePaperTableSample.xlsx\", \"mimetype\": \"text/plain\", \"start_char_idx\": 0, \"end_char_idx\": 562, \"metadata_seperator\": \"\\\\n\", \"text_template\": \"{metadata_str}\\\\n\\\\n{content}\", \"class_name\": \"TextNode\"}', '_node_type': 'TextNode', 'document_id': '2a5e3fb6-998e-4d42-b6a0-f7d3553bb4e1', 'doc_id': '2a5e3fb6-998e-4d42-b6a0-f7d3553bb4e1', 'ref_doc_id': '2a5e3fb6-998e-4d42-b6a0-f7d3553bb4e1'}, vector=None, shard_key=None, order_value=None), Record(id='959195eb-2d20-4ad3-973a-8dbc1afaaa44', payload={'page_label': '9', 'file_name': 'Multimodal AI Innovation for Meeting Assistants System.pdf', 'tenant_name': 'deploy_mind_af9cecb26ff34a2f9569471f800a6e87', '_node_content': '{\"id_\": \"959195eb-2d20-4ad3-973a-8dbc1afaaa44\", \"embedding\": null, \"metadata\": {\"page_label\": \"9\", \"file_name\": \"Multimodal AI Innovation for Meeting Assistants System.pdf\", \"tenant_name\": \"deploy_mind_af9cecb26ff34a2f9569471f800a6e87\"}, \"excluded_embed_metadata_keys\": [\"file_name\", \"file_type\", \"file_size\", \"creation_date\", \"last_modified_date\", \"last_accessed_date\"], \"excluded_llm_metadata_keys\": [\"file_name\", \"file_type\", \"file_size\", \"creation_date\", \"last_modified_date\", \"last_accessed_date\"], \"relationships\": {\"1\": {\"node_id\": \"ffacc4a7-bba5-4c4d-87c1-2dec90a477fd\", \"node_type\": \"4\", \"metadata\": {\"page_label\": \"9\", \"file_name\": \"Multimodal AI Innovation for Meeting Assistants System.pdf\"}, \"hash\": \"fbfcd2e9da7d52a72e569164f384196d8a1686b5c0cb212d00366c8f46773c88\", \"class_name\": \"RelatedNodeInfo\"}}, \"metadata_template\": \"{key}: {value}\", \"metadata_separator\": \"\\\\n\", \"text\": \"kyanon.digital\\\\nkyanon.digital\\\\nSome Research Tools\\\\nRef:\\\\n1. Web-app: https://www.connectedpapers.com/ \\\\n2. Paper: https://www.semanticscholar.org/reader/649def34f8be52c8b66281af98ae884c09aef38b \\\\nConnected Paper: Build your graph\\\\nYour Paper\", \"mimetype\": \"text/plain\", \"start_char_idx\": 0, \"end_char_idx\": 236, \"metadata_seperator\": \"\\\\n\", \"text_template\": \"{metadata_str}\\\\n\\\\n{content}\", \"class_name\": \"TextNode\"}', '_node_type': 'TextNode', 'document_id': 'ffacc4a7-bba5-4c4d-87c1-2dec90a477fd', 'doc_id': 'ffacc4a7-bba5-4c4d-87c1-2dec90a477fd', 'ref_doc_id': 'ffacc4a7-bba5-4c4d-87c1-2dec90a477fd'}, vector=None, shard_key=None, order_value=None), Record(id='a7679cd6-8256-4d83-9b2b-b13c7586b946', payload={'page_label': '5', 'file_name': 'Multimodal AI Innovation for Meeting Assistants System.pdf', 'tenant_name': 'deploy_mind_af9cecb26ff34a2f9569471f800a6e87', '_node_content': '{\"id_\": \"a7679cd6-8256-4d83-9b2b-b13c7586b946\", \"embedding\": null, \"metadata\": {\"page_label\": \"5\", \"file_name\": \"Multimodal AI Innovation for Meeting Assistants System.pdf\", \"tenant_name\": \"deploy_mind_af9cecb26ff34a2f9569471f800a6e87\"}, \"excluded_embed_metadata_keys\": [\"file_name\", \"file_type\", \"file_size\", \"creation_date\", \"last_modified_date\", \"last_accessed_date\"], \"excluded_llm_metadata_keys\": [\"file_name\", \"file_type\", \"file_size\", \"creation_date\", \"last_modified_date\", \"last_accessed_date\"], \"relationships\": {\"1\": {\"node_id\": \"ec0f7dab-ac7d-46d2-b826-3c7967e9af46\", \"node_type\": \"4\", \"metadata\": {\"page_label\": \"5\", \"file_name\": \"Multimodal AI Innovation for Meeting Assistants System.pdf\"}, \"hash\": \"f1c4fd667da3ddc18f22a1b842dc5724b6c84410d6a95cc1c2b21b161b0c50f7\", \"class_name\": \"RelatedNodeInfo\"}}, \"metadata_template\": \"{key}: {value}\", \"metadata_separator\": \"\\\\n\", \"text\": \"kyanon.digital\\\\nkyanon.digital\\\\nIntroduction\\\\nSecondary datasets are \\\\npre-existing, collected by \\\\nothers and repurposed.\\\\nPrimary datasets are \\\\noriginal, collected by the \\\\nresearcher for a specific \\\\npurpose.\", \"mimetype\": \"text/plain\", \"start_char_idx\": 0, \"end_char_idx\": 203, \"metadata_seperator\": \"\\\\n\", \"text_template\": \"{metadata_str}\\\\n\\\\n{content}\", \"class_name\": \"TextNode\"}', '_node_type': 'TextNode', 'document_id': 'ec0f7dab-ac7d-46d2-b826-3c7967e9af46', 'doc_id': 'ec0f7dab-ac7d-46d2-b826-3c7967e9af46', 'ref_doc_id': 'ec0f7dab-ac7d-46d2-b826-3c7967e9af46'}, vector=None, shard_key=None, order_value=None), Record(id='e876db28-666d-45e7-a560-ca7617f50bc6', payload={'page_label': '11', 'file_name': 'Multimodal AI Innovation for Meeting Assistants System.pdf', 'tenant_name': 'deploy_mind_af9cecb26ff34a2f9569471f800a6e87', '_node_content': '{\"id_\": \"e876db28-666d-45e7-a560-ca7617f50bc6\", \"embedding\": null, \"metadata\": {\"page_label\": \"11\", \"file_name\": \"Multimodal AI Innovation for Meeting Assistants System.pdf\", \"tenant_name\": \"deploy_mind_af9cecb26ff34a2f9569471f800a6e87\"}, \"excluded_embed_metadata_keys\": [\"file_name\", \"file_type\", \"file_size\", \"creation_date\", \"last_modified_date\", \"last_accessed_date\"], \"excluded_llm_metadata_keys\": [\"file_name\", \"file_type\", \"file_size\", \"creation_date\", \"last_modified_date\", \"last_accessed_date\"], \"relationships\": {\"1\": {\"node_id\": \"4bcb4e2a-7889-4b5b-a60f-fc52f3beb00a\", \"node_type\": \"4\", \"metadata\": {\"page_label\": \"11\", \"file_name\": \"Multimodal AI Innovation for Meeting Assistants System.pdf\"}, \"hash\": \"756e3ac941c846d66205e89919541cd1f3ac4477e21ecceb570eda7d18904b24\", \"class_name\": \"RelatedNodeInfo\"}}, \"metadata_template\": \"{key}: {value}\", \"metadata_separator\": \"\\\\n\", \"text\": \"kyanon.digital\\\\nkyanon.digital\\\\nSome Research Tools\\\\nRef:\\\\n1. notebooklm.google.com\\\\nNotebook LLM: Assist to analyst papers\", \"mimetype\": \"text/plain\", \"start_char_idx\": 0, \"end_char_idx\": 118, \"metadata_seperator\": \"\\\\n\", \"text_template\": \"{metadata_str}\\\\n\\\\n{content}\", \"class_name\": \"TextNode\"}', '_node_type': 'TextNode', 'document_id': '4bcb4e2a-7889-4b5b-a60f-fc52f3beb00a', 'doc_id': '4bcb4e2a-7889-4b5b-a60f-fc52f3beb00a', 'ref_doc_id': '4bcb4e2a-7889-4b5b-a60f-fc52f3beb00a'}, vector=None, shard_key=None, order_value=None)], None)\n"
     ]
    },
    {
     "data": {
      "text/plain": [
       "14"
      ]
     },
     "execution_count": 23,
     "metadata": {},
     "output_type": "execute_result"
    }
   ],
   "source": [
    "import random\n",
    "\n",
    "limit = client.count(\n",
    "    collection_name=\"Llama_da9b7bb158e64c93bea491df09894psd\",\n",
    "    count_filter=models.Filter(\n",
    "        must=[\n",
    "            models.FieldCondition(\n",
    "                key=\"tenant_name\",\n",
    "                match=models.MatchValue(\n",
    "                    value=\"deploy_mind_af9cecb26ff34a2f9569471f800a6e87\"\n",
    "                ),\n",
    "            ),\n",
    "        ]\n",
    "    ),\n",
    "    exact=True,\n",
    ").count\n",
    "\n",
    "point_list = client.scroll(\n",
    "    collection_name=\"Llama_da9b7bb158e64c93bea491df09894psd\",\n",
    "    scroll_filter=models.Filter(\n",
    "        must=[\n",
    "            models.FieldCondition(\n",
    "                key=\"tenant_name\",\n",
    "                match=models.MatchValue(\n",
    "                    value=\"deploy_mind_af9cecb26ff34a2f9569471f800a6e87\"\n",
    "                ),\n",
    "            ),\n",
    "        ]\n",
    "    ),\n",
    "    limit=limit,\n",
    "    with_payload=True,\n",
    ")\n",
    "print(point_list)\n",
    "len(point_list[0])"
   ]
  },
  {
   "cell_type": "code",
   "execution_count": 26,
   "id": "da25bc8e",
   "metadata": {},
   "outputs": [
    {
     "name": "stdout",
     "output_type": "stream",
     "text": [
      "text: kyanon.digital\n",
      "kyanon.digital\n",
      "Appendix \n",
      "Top Conferences for LLM:\n",
      "1. NeurIPS (Conference on Neural Information Processing Systems) - http://nips.cc/\n",
      "2. ICML (International Conference on Machine Learning) - https://icml.cc/\n",
      "3. ACL (Association for Computational Linguistics) - https://www.aclweb.org/portal/ \n",
      "4. EMNLP (Empirical Methods in Natural Language Processing) - https://2024.emnlp.org/ \n",
      "5. CVPR / ICCV / ECCV (for vision-language models or multimodal LLMs) - https://cvpr.thecvf.com/ \n",
      "6. ICLR (International Conference on Learning Representations) - https://iclr.cc/, \n",
      "source: Multimodal AI Innovation for Meeting Assistants System.pdf, \n",
      "page: 13\n",
      "text: kyanon.digital\n",
      "kyanon.digital\n",
      "Introduction\n",
      "Our product, \n",
      "source: Multimodal AI Innovation for Meeting Assistants System.pdf, \n",
      "page: 3\n",
      "text: kyanon.digital\n",
      "Thank you!, \n",
      "source: Multimodal AI Innovation for Meeting Assistants System.pdf, \n",
      "page: 14\n",
      "text: kyanon.digital\n",
      "kyanon.digital\n",
      "Agenda\n",
      "- Introduction\n",
      "- Objectives and Achievements \n",
      "- Some research tools\n",
      "- Next step, \n",
      "source: Multimodal AI Innovation for Meeting Assistants System.pdf, \n",
      "page: 2\n",
      "text: kyanon.digital\n",
      "kyanon.digital\n",
      "Objectives and Achievements\n",
      "Raw dataset KD Meeting \n",
      "Corpus Base methods Your proposal\n",
      "BenchmarksReviewing the \n",
      "literature \n",
      "Your \n",
      "presentations\n",
      "The KD Meeting Corpus is a multimodal dataset of \n",
      "meetings at KD, capturing cameras. Recorded in \n",
      "Vietnamese, it features real-world interactions \n",
      "annotated with transcriptions, dialogue acts, and the \n",
      "topics. Designed for internal use, it supports \n",
      "research in meeting analysis and R&D optimization.\n",
      "Milestone 1 \n",
      "Milestone 2 \n",
      "Milestone 3 \n",
      "Your Outstanding\n",
      "Research topic, \n",
      "source: Multimodal AI Innovation for Meeting Assistants System.pdf, \n",
      "page: 7\n",
      "text: kyanon.digital\n",
      "kyanon.digital\n",
      "Some Research Tools\n",
      "Ref:\n",
      "1. https://scite.ai/ \n",
      "2. https://app.dimensions.ai/ \n",
      "Scite.ai Dimensions.ai, \n",
      "source: Multimodal AI Innovation for Meeting Assistants System.pdf, \n",
      "page: 10\n",
      "text: kyanon.digital\n",
      "Multimodal AI Innovation \n",
      "for Meeting Assistants \n",
      "System\n",
      "AI K-FRESH\n",
      "Version 1.0\n",
      "2025\n",
      "cuong.hv@kyanon.digital, \n",
      "source: Multimodal AI Innovation for Meeting Assistants System.pdf, \n",
      "page: 1\n",
      "text: kyanon.digital\n",
      "kyanon.digital\n",
      "Introduction \n",
      "Research insights accelerate Product impact \n",
      "and Product challenges guide Research relevance, \n",
      "source: Multimodal AI Innovation for Meeting Assistants System.pdf, \n",
      "page: 4\n",
      "text: kyanon.digital\n",
      "kyanon.digital\n",
      "Some Research Tools\n",
      "Ref:\n",
      "1. Web-app: https://pasa-agent.ai/ \n",
      "2. Paper: https://arxiv.org/pdf/2501.10120 \n",
      "PaSa: Find papers from your queries\n",
      "Example Query: Could you provide me some \n",
      "studies that using LLM for meeting, \n",
      "source: Multimodal AI Innovation for Meeting Assistants System.pdf, \n",
      "page: 8\n",
      "text: kyanon.digital\n",
      "kyanon.digital\n",
      "Introduction\n",
      "A Research Circle\n",
      "POSEIDON\n",
      "WE, HERE!\n",
      "“BÃI ĐÁP\", \n",
      "source: Multimodal AI Innovation for Meeting Assistants System.pdf, \n",
      "page: 6\n",
      "text: kyanon.digital\n",
      "kyanon.digital\n",
      "Next step\n",
      "○ Year of publication\n",
      "○ Journal / Conference\n",
      "○ Title \n",
      "○ Author\n",
      "○ Dataset\n",
      "○ Problems / Research gaps addressed in \n",
      "research paper\n",
      "○ Purpose/Motivation/Application\n",
      "○ Preprocessing techniques used\n",
      "○ Algorithms used\n",
      "○ Evaluation metrics used \n",
      "○ Summary in your own words\n",
      "○ Any future recommendations suggested \n",
      "in the research paper/ Research gaps that \n",
      "you may identify\n",
      "○ Any specific remarks regarding the \n",
      "research papers that you may want to \n",
      "refer to at a later point in time\n",
      "Sample format: ReferencePaperTableSample.xlsx, \n",
      "source: Multimodal AI Innovation for Meeting Assistants System.pdf, \n",
      "page: 12\n",
      "text: kyanon.digital\n",
      "kyanon.digital\n",
      "Some Research Tools\n",
      "Ref:\n",
      "1. Web-app: https://www.connectedpapers.com/ \n",
      "2. Paper: https://www.semanticscholar.org/reader/649def34f8be52c8b66281af98ae884c09aef38b \n",
      "Connected Paper: Build your graph\n",
      "Your Paper, \n",
      "source: Multimodal AI Innovation for Meeting Assistants System.pdf, \n",
      "page: 9\n",
      "text: kyanon.digital\n",
      "kyanon.digital\n",
      "Introduction\n",
      "Secondary datasets are \n",
      "pre-existing, collected by \n",
      "others and repurposed.\n",
      "Primary datasets are \n",
      "original, collected by the \n",
      "researcher for a specific \n",
      "purpose., \n",
      "source: Multimodal AI Innovation for Meeting Assistants System.pdf, \n",
      "page: 5\n",
      "text: kyanon.digital\n",
      "kyanon.digital\n",
      "Some Research Tools\n",
      "Ref:\n",
      "1. notebooklm.google.com\n",
      "Notebook LLM: Assist to analyst papers, \n",
      "source: Multimodal AI Innovation for Meeting Assistants System.pdf, \n",
      "page: 11\n"
     ]
    }
   ],
   "source": [
    "import json\n",
    "for i, point in enumerate(point_list[0]):\n",
    "    node_content_as_dict = json.loads(point.payload['_node_content']) \n",
    "    text = node_content_as_dict['text']\n",
    "    source = node_content_as_dict['metadata']['file_name']\n",
    "    page = node_content_as_dict['metadata']['page_label']\n",
    "    print(f'text: {text}, \\nsource: {source}, \\npage: {page}')"
   ]
  },
  {
   "cell_type": "code",
   "execution_count": 5,
   "id": "8519542a",
   "metadata": {},
   "outputs": [
    {
     "data": {
      "text/plain": [
       "Record(id='50d23bd2-df6e-4e22-818b-c838486147bb', payload={'page_label': '10', 'file_name': 'Multimodal AI Innovation for Meeting Assistants System.pdf', 'tenant_name': 'deploy_mind_af9cecb26ff34a2f9569471f800a6e87', '_node_content': '{\"id_\": \"50d23bd2-df6e-4e22-818b-c838486147bb\", \"embedding\": null, \"metadata\": {\"page_label\": \"10\", \"file_name\": \"Multimodal AI Innovation for Meeting Assistants System.pdf\", \"tenant_name\": \"deploy_mind_af9cecb26ff34a2f9569471f800a6e87\"}, \"excluded_embed_metadata_keys\": [\"file_name\", \"file_type\", \"file_size\", \"creation_date\", \"last_modified_date\", \"last_accessed_date\"], \"excluded_llm_metadata_keys\": [\"file_name\", \"file_type\", \"file_size\", \"creation_date\", \"last_modified_date\", \"last_accessed_date\"], \"relationships\": {\"1\": {\"node_id\": \"1f5e0341-a263-4725-8c4d-579ccb40aee4\", \"node_type\": \"4\", \"metadata\": {\"page_label\": \"10\", \"file_name\": \"Multimodal AI Innovation for Meeting Assistants System.pdf\"}, \"hash\": \"e5356b23b9b14f6bede5977f880461a6ac1b2c0a28e93fb27efec41eac222f68\", \"class_name\": \"RelatedNodeInfo\"}}, \"metadata_template\": \"{key}: {value}\", \"metadata_separator\": \"\\\\n\", \"text\": \"kyanon.digital\\\\nkyanon.digital\\\\nSome Research Tools\\\\nRef:\\\\n1. https://scite.ai/ \\\\n2. https://app.dimensions.ai/ \\\\nScite.ai Dimensions.ai\", \"mimetype\": \"text/plain\", \"start_char_idx\": 0, \"end_char_idx\": 130, \"metadata_seperator\": \"\\\\n\", \"text_template\": \"{metadata_str}\\\\n\\\\n{content}\", \"class_name\": \"TextNode\"}', '_node_type': 'TextNode', 'document_id': '1f5e0341-a263-4725-8c4d-579ccb40aee4', 'doc_id': '1f5e0341-a263-4725-8c4d-579ccb40aee4', 'ref_doc_id': '1f5e0341-a263-4725-8c4d-579ccb40aee4'}, vector=None, shard_key=None, order_value=None)"
      ]
     },
     "execution_count": 5,
     "metadata": {},
     "output_type": "execute_result"
    }
   ],
   "source": [
    "object = random.choice(point_list[0])\n",
    "object"
   ]
  },
  {
   "cell_type": "code",
   "execution_count": 7,
   "id": "c3e0fd5a",
   "metadata": {},
   "outputs": [
    {
     "name": "stdout",
     "output_type": "stream",
     "text": [
      "page_label\n",
      "file_name\n",
      "tenant_name\n",
      "_node_content\n",
      "_node_type\n",
      "document_id\n",
      "doc_id\n",
      "ref_doc_id\n"
     ]
    }
   ],
   "source": [
    "for o in object.payload:\n",
    "    print(o)"
   ]
  },
  {
   "cell_type": "code",
   "execution_count": 15,
   "id": "4c6299dd",
   "metadata": {},
   "outputs": [
    {
     "name": "stdout",
     "output_type": "stream",
     "text": [
      "id_: 50d23bd2-df6e-4e22-818b-c838486147bb\n",
      "embedding: None\n",
      "metadata: {'page_label': '10', 'file_name': 'Multimodal AI Innovation for Meeting Assistants System.pdf', 'tenant_name': 'deploy_mind_af9cecb26ff34a2f9569471f800a6e87'}\n",
      "excluded_embed_metadata_keys: ['file_name', 'file_type', 'file_size', 'creation_date', 'last_modified_date', 'last_accessed_date']\n",
      "excluded_llm_metadata_keys: ['file_name', 'file_type', 'file_size', 'creation_date', 'last_modified_date', 'last_accessed_date']\n",
      "relationships: {'1': {'node_id': '1f5e0341-a263-4725-8c4d-579ccb40aee4', 'node_type': '4', 'metadata': {'page_label': '10', 'file_name': 'Multimodal AI Innovation for Meeting Assistants System.pdf'}, 'hash': 'e5356b23b9b14f6bede5977f880461a6ac1b2c0a28e93fb27efec41eac222f68', 'class_name': 'RelatedNodeInfo'}}\n",
      "metadata_template: {key}: {value}\n",
      "metadata_separator: \n",
      "\n",
      "text: kyanon.digital\n",
      "kyanon.digital\n",
      "Some Research Tools\n",
      "Ref:\n",
      "1. https://scite.ai/ \n",
      "2. https://app.dimensions.ai/ \n",
      "Scite.ai Dimensions.ai\n",
      "mimetype: text/plain\n",
      "start_char_idx: 0\n",
      "end_char_idx: 130\n",
      "metadata_seperator: \n",
      "\n",
      "text_template: {metadata_str}\n",
      "\n",
      "{content}\n",
      "class_name: TextNode\n"
     ]
    }
   ],
   "source": [
    "import json\n",
    "node_content_as_dict = json.loads(object.payload['_node_content'])\n",
    "for k, v in node_content_as_dict.items():\n",
    "    print(f'{k}: {v}')\n",
    "    "
   ]
  },
  {
   "cell_type": "code",
   "execution_count": null,
   "id": "2a957c4a",
   "metadata": {},
   "outputs": [],
   "source": [
    "import json\n",
    "content = json.loads(object.payload['_node_content'])\n",
    "print(content['text'])\n",
    "\n",
    "    "
   ]
  }
 ],
 "metadata": {
  "kernelspec": {
   "display_name": "deploy_mind",
   "language": "python",
   "name": "python3"
  },
  "language_info": {
   "codemirror_mode": {
    "name": "ipython",
    "version": 3
   },
   "file_extension": ".py",
   "mimetype": "text/x-python",
   "name": "python",
   "nbconvert_exporter": "python",
   "pygments_lexer": "ipython3",
   "version": "3.9.21"
  }
 },
 "nbformat": 4,
 "nbformat_minor": 5
}
