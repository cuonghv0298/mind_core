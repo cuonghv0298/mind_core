{
 "cells": [
  {
   "cell_type": "markdown",
   "metadata": {},
   "source": [
    "# Example Summarize by stuff"
   ]
  },
  {
   "cell_type": "markdown",
   "metadata": {},
   "source": [
    "## Example"
   ]
  },
  {
   "cell_type": "code",
   "execution_count": 1,
   "metadata": {},
   "outputs": [
    {
     "name": "stderr",
     "output_type": "stream",
     "text": [
      "USER_AGENT environment variable not set, consider setting it to identify your requests.\n",
      "/tmp/ipykernel_3858311/809777196.py:18: LangChainDeprecationWarning: The class `LLMChain` was deprecated in LangChain 0.1.17 and will be removed in 1.0. Use :meth:`~RunnableSequence, e.g., `prompt | llm`` instead.\n",
      "  llm_chain = LLMChain(llm=llm, prompt=prompt)\n",
      "/tmp/ipykernel_3858311/809777196.py:21: LangChainDeprecationWarning: This class is deprecated. Use the `create_stuff_documents_chain` constructor instead. See migration guide here: https://python.langchain.com/v0.2/docs/versions/migrating_chains/stuff_docs_chain/\n",
      "  stuff_chain = StuffDocumentsChain(llm_chain=llm_chain, document_variable_name=\"text\")\n"
     ]
    },
    {
     "data": {
      "text/plain": [
       "[Document(metadata={'source': 'https://docs.streamlit.io/develop/api-reference/widgets/st.segmented_control', 'title': 'st.segmented_control - Streamlit Docs', 'description': 'st.segmented_control displays a select widget where options display in a segmented button.', 'language': 'No language found.'}, page_content='st.segmented_control - Streamlit DocsDocumentationsearchSearchrocket_launchGet startedInstallationaddFundamentalsaddFirst stepsaddcodeDevelopConceptsaddAPI referenceremovePAGE ELEMENTSWrite and magicaddText elementsaddData elementsaddChart elementsaddInput widgetsremoveBUTTONSst.buttonst.download_buttonst.form_submit_buttonlinkst.link_buttonst.page_linkSELECTIONSst.checkboxst.color_pickerst.feedbackst.multiselectst.pillsst.radiost.segmented_controlst.selectboxst.select_sliderst.toggleNUMERICst.number_inputst.sliderDATE & TIMEst.date_inputst.time_inputTEXTst.chat_inputlinkst.text_areast.text_inputMEDIA & FILESst.audio_inputst.camera_inputst.data_editorlinkst.file_uploaderMedia elementsaddLayouts and containersaddChat elementsaddStatus elementsaddThird-party componentsopen_in_newAPPLICATION LOGICNavigation and pagesaddExecution flowaddCaching and stateaddConnections and secretsaddCustom componentsaddUtilitiesaddConfigurationaddTOOLSApp testingaddCommand lineaddTutorialsaddQuick referenceaddweb_assetDeployConceptsaddStreamlit Community CloudaddSnowflakeOther platformsaddschoolKnowledge baseFAQInstalling dependenciesDeployment issuesHome/Develop/API reference/Input widgets/st.segmented_controlst.segmented_controlStreamlit VersionVersion 1.41.0Version 1.40.0Version 1.39.0Version 1.38.0Version 1.37.0Version 1.36.0Version 1.35.0Version 1.34.0Version 1.33.0Version 1.32.0Version 1.31.0Version 1.30.0Version 1.29.0Version 1.28.0Version 1.27.0Version 1.26.0Version 1.25.0Version 1.24.0Version 1.23.0Version 1.22.0Version 1.21.0Version 1.20.0Streamlit in SnowflakeDisplay a segmented control widget.\\nA segmented control widget is a linear set of segments where each of\\nthe passed options functions like a toggle button.\\nFunction signature[source] st.segmented_control(label, options, *, selection_mode=\"single\", default=None, format_func=None, key=None, help=None, on_change=None, args=None, kwargs=None, disabled=False, label_visibility=\"visible\") Parameters\\n\\nlabel\\n(str)\\n\\n \\nA short label explaining to the user what this widget is for.\\nThe label can optionally contain GitHub-flavored Markdown of the\\nfollowing types: Bold, Italics, Strikethroughs, Inline Code, Links,\\nand Images. Images display like icons, with a max height equal to\\nthe font height.\\nUnsupported Markdown elements are unwrapped so only their children\\n(text contents) render. Display unsupported elements as literal\\ncharacters by backslash-escaping them. E.g.,\\n\"1\\\\. Not an ordered list\".\\nSee the body parameter of st.markdown for additional,\\nsupported Markdown directives.\\nFor accessibility reasons, you should never set an empty label, but\\nyou can hide it with label_visibility if needed. In the future,\\nwe may disallow empty labels by raising an exception.\\n\\n\\noptions\\n(Iterable of V)\\n\\n \\nLabels for the select options in an Iterable. This can be a\\nlist, set, or anything supported by st.dataframe. If\\noptions is dataframe-like, the first column will be used. Each\\nlabel will be cast to str internally by default.\\n\\n\\nselection_mode\\n(\"single\" or \"multi\")\\n\\n \\nThe selection mode for the widget. If this is \"single\"\\n(default), only one option can be selected. If this is \"multi\",\\nmultiple options can be selected.\\n\\n\\ndefault\\n(Iterable of V, V, or None)\\n\\n \\nThe value of the widget when it first renders. If the\\nselection_mode is multi, this can be a list of values, a\\nsingle value, or None. If the selection_mode is\\n\"single\", this can be a single value or None.\\n\\n\\nformat_func\\n(function)\\n\\n \\nFunction to modify the display of the options. It receives\\nthe raw option as an argument and should output the label to be\\nshown for that option. This has no impact on the return value of\\nthe command.\\n\\n\\nkey\\n(str or int)\\n\\n \\nAn optional string or integer to use as the unique key for the widget.\\nIf this is omitted, a key will be generated for the widget\\nbased on its content. Multiple widgets of the same type may\\nnot share the same key.\\n\\n\\nhelp\\n(str)\\n\\n \\nAn optional tooltip that gets displayed next to the widget label.\\nStreamlit only displays the tooltip when\\nlabel_visibility=\"visible\".\\n\\n\\non_change\\n(callable)\\n\\n \\nAn optional callback invoked when this widget\\'s value changes.\\n\\n\\nargs\\n(tuple)\\n\\n \\nAn optional tuple of args to pass to the callback.\\n\\n\\nkwargs\\n(dict)\\n\\n \\nAn optional dict of kwargs to pass to the callback.\\n\\n\\ndisabled\\n(bool)\\n\\n \\nAn optional boolean that disables the widget if set to True.\\nThe default is False.\\n\\n\\nlabel_visibility\\n(\"visible\", \"hidden\", or \"collapsed\")\\n\\n \\nThe visibility of the label. The default is \"visible\". If this\\nis \"hidden\", Streamlit displays an empty spacer instead of the\\nlabel, which can help keep the widget alligned with other widgets.\\nIf this is \"collapsed\", Streamlit displays no label or spacer.\\nReturns(list of V, V, or None)  If the selection_mode is multi, this is a list of selected\\noptions or an empty list. If the selection_mode is\\n\"single\", this is a selected option or None.\\nExamples\\nExample 1: Multi-select segmented control\\nDisplay a multi-select segmented control widget, and show the\\nselection:\\n\\nimport streamlit as st\\n\\noptions = [\"North\", \"East\", \"South\", \"West\"]\\nselection = st.segmented_control(\\n    \"Directions\", options, selection_mode=\"multi\"\\n)\\nst.markdown(f\"Your selected options: {selection}.\")\\n\\nBuilt with Streamlit 🎈Fullscreen open_in_newExample 2: Single-select segmented control with icons\\nDisplay a single-select segmented control widget with icons:\\n\\nimport streamlit as st\\n\\noption_map = {\\n    0: \":material/add:\",\\n    1: \":material/zoom_in:\",\\n    2: \":material/zoom_out:\",\\n    3: \":material/zoom_out_map:\",\\n}\\nselection = st.segmented_control(\\n    \"Tool\",\\n    options=option_map.keys(),\\n    format_func=lambda option: option_map[option],\\n    selection_mode=\"single\",\\n)\\nst.write(\\n    \"Your selected option: \"\\n    f\"{None if selection is None else option_map[selection]}\"\\n)\\n\\nBuilt with Streamlit 🎈Fullscreen open_in_new\\nPrevious: st.radioNext: st.selectboxforumStill have questions?Our forums are full of helpful information and Streamlit experts.HomeContact UsCommunity© 2024 Snowflake Inc.Cookie policyforum Ask AI')]"
      ]
     },
     "execution_count": 1,
     "metadata": {},
     "output_type": "execute_result"
    }
   ],
   "source": [
    "from langchain.chains.combine_documents.stuff import StuffDocumentsChain\n",
    "from langchain.chains.llm import LLMChain\n",
    "from langchain_core.prompts import PromptTemplate\n",
    "from langchain_openai import ChatOpenAI\n",
    "from langchain_community.document_loaders import WebBaseLoader\n",
    "\n",
    "\n",
    "from dotenv import load_dotenv\n",
    "load_dotenv(\"/datadrive/CuongHV/ownllm_project/ownllm/src/.env\")\n",
    "# Define prompt\n",
    "prompt_template = \"\"\"Write a concise summary of the following:\n",
    "\"{text}\"\n",
    "CONCISE SUMMARY:\"\"\"\n",
    "prompt = PromptTemplate.from_template(prompt_template)\n",
    "\n",
    "# Define LLM chain\n",
    "llm = ChatOpenAI(temperature=0, model_name=\"gpt-3.5-turbo-16k\")\n",
    "llm_chain = LLMChain(llm=llm, prompt=prompt)\n",
    "\n",
    "# Define StuffDocumentsChain\n",
    "stuff_chain = StuffDocumentsChain(llm_chain=llm_chain, document_variable_name=\"text\")\n",
    "link = \"https://docs.streamlit.io/develop/api-reference/widgets/st.segmented_control\"\n",
    "loader = WebBaseLoader(link)\n",
    "docs = loader.load()\n",
    "docs\n",
    "print(stuff_chain.run(docs))"
   ]
  },
  {
   "cell_type": "code",
   "execution_count": 3,
   "metadata": {},
   "outputs": [
    {
     "name": "stdout",
     "output_type": "stream",
     "text": [
      "page_content='st.segmented_control - Streamlit DocsDocumentationsearchSearchrocket_launchGet startedInstallationaddFundamentalsaddFirst stepsaddcodeDevelopConceptsaddAPI referenceremovePAGE ELEMENTSWrite and magicaddText elementsaddData elementsaddChart elementsaddInput widgetsremoveBUTTONSst.buttonst.download_buttonst.form_submit_buttonlinkst.link_buttonst.page_linkSELECTIONSst.checkboxst.color_pickerst.feedbackst.multiselectst.pillsst.radiost.segmented_controlst.selectboxst.select_sliderst.toggleNUMERICst.number_inputst.sliderDATE & TIMEst.date_inputst.time_inputTEXTst.chat_inputlinkst.text_areast.text_inputMEDIA & FILESst.audio_inputst.camera_inputst.data_editorlinkst.file_uploaderMedia elementsaddLayouts and containersaddChat elementsaddStatus elementsaddThird-party componentsopen_in_newAPPLICATION LOGICNavigation and pagesaddExecution flowaddCaching and stateaddConnections and secretsaddCustom componentsaddUtilitiesaddConfigurationaddTOOLSApp testingaddCommand lineaddTutorialsaddQuick referenceaddweb_assetDeployConceptsaddStreamlit Community CloudaddSnowflakeOther platformsaddschoolKnowledge baseFAQInstalling dependenciesDeployment issuesHome/Develop/API reference/Input widgets/st.segmented_controlst.segmented_controlStreamlit VersionVersion 1.41.0Version 1.40.0Version 1.39.0Version 1.38.0Version 1.37.0Version 1.36.0Version 1.35.0Version 1.34.0Version 1.33.0Version 1.32.0Version 1.31.0Version 1.30.0Version 1.29.0Version 1.28.0Version 1.27.0Version 1.26.0Version 1.25.0Version 1.24.0Version 1.23.0Version 1.22.0Version 1.21.0Version 1.20.0Streamlit in SnowflakeDisplay a segmented control widget.\n",
      "A segmented control widget is a linear set of segments where each of\n",
      "the passed options functions like a toggle button.\n",
      "Function signature[source] st.segmented_control(label, options, *, selection_mode=\"single\", default=None, format_func=None, key=None, help=None, on_change=None, args=None, kwargs=None, disabled=False, label_visibility=\"visible\") Parameters\n",
      "\n",
      "label\n",
      "(str)\n",
      "\n",
      " \n",
      "A short label explaining to the user what this widget is for.\n",
      "The label can optionally contain GitHub-flavored Markdown of the\n",
      "following types: Bold, Italics, Strikethroughs, Inline Code, Links,\n",
      "and Images. Images display like icons, with a max height equal to\n",
      "the font height.\n",
      "Unsupported Markdown elements are unwrapped so only their children\n",
      "(text contents) render. Display unsupported elements as literal\n",
      "characters by backslash-escaping them. E.g.,\n",
      "\"1\\. Not an ordered list\".\n",
      "See the body parameter of st.markdown for additional,\n",
      "supported Markdown directives.\n",
      "For accessibility reasons, you should never set an empty label, but\n",
      "you can hide it with label_visibility if needed. In the future,\n",
      "we may disallow empty labels by raising an exception.\n",
      "\n",
      "\n",
      "options\n",
      "(Iterable of V)\n",
      "\n",
      " \n",
      "Labels for the select options in an Iterable. This can be a\n",
      "list, set, or anything supported by st.dataframe. If\n",
      "options is dataframe-like, the first column will be used. Each\n",
      "label will be cast to str internally by default.\n",
      "\n",
      "\n",
      "selection_mode\n",
      "(\"single\" or \"multi\")\n",
      "\n",
      " \n",
      "The selection mode for the widget. If this is \"single\"\n",
      "(default), only one option can be selected. If this is \"multi\",\n",
      "multiple options can be selected.\n",
      "\n",
      "\n",
      "default\n",
      "(Iterable of V, V, or None)\n",
      "\n",
      " \n",
      "The value of the widget when it first renders. If the\n",
      "selection_mode is multi, this can be a list of values, a\n",
      "single value, or None. If the selection_mode is\n",
      "\"single\", this can be a single value or None.\n",
      "\n",
      "\n",
      "format_func\n",
      "(function)\n",
      "\n",
      " \n",
      "Function to modify the display of the options. It receives\n",
      "the raw option as an argument and should output the label to be\n",
      "shown for that option. This has no impact on the return value of\n",
      "the command.\n",
      "\n",
      "\n",
      "key\n",
      "(str or int)\n",
      "\n",
      " \n",
      "An optional string or integer to use as the unique key for the widget.\n",
      "If this is omitted, a key will be generated for the widget\n",
      "based on its content. Multiple widgets of the same type may\n",
      "not share the same key.\n",
      "\n",
      "\n",
      "help\n",
      "(str)\n",
      "\n",
      " \n",
      "An optional tooltip that gets displayed next to the widget label.\n",
      "Streamlit only displays the tooltip when\n",
      "label_visibility=\"visible\".\n",
      "\n",
      "\n",
      "on_change\n",
      "(callable)\n",
      "\n",
      " \n",
      "An optional callback invoked when this widget's value changes.\n",
      "\n",
      "\n",
      "args\n",
      "(tuple)\n",
      "\n",
      " \n",
      "An optional tuple of args to pass to the callback.\n",
      "\n",
      "\n",
      "kwargs\n",
      "(dict)\n",
      "\n",
      " \n",
      "An optional dict of kwargs to pass to the callback.\n",
      "\n",
      "\n",
      "disabled\n",
      "(bool)\n",
      "\n",
      " \n",
      "An optional boolean that disables the widget if set to True.\n",
      "The default is False.\n",
      "\n",
      "\n",
      "label_visibility\n",
      "(\"visible\", \"hidden\", or \"collapsed\")\n",
      "\n",
      " \n",
      "The visibility of the label. The default is \"visible\". If this\n",
      "is \"hidden\", Streamlit displays an empty spacer instead of the\n",
      "label, which can help keep the widget alligned with other widgets.\n",
      "If this is \"collapsed\", Streamlit displays no label or spacer.\n",
      "Returns(list of V, V, or None)  If the selection_mode is multi, this is a list of selected\n",
      "options or an empty list. If the selection_mode is\n",
      "\"single\", this is a selected option or None.\n",
      "Examples\n",
      "Example 1: Multi-select segmented control\n",
      "Display a multi-select segmented control widget, and show the\n",
      "selection:\n",
      "\n",
      "import streamlit as st\n",
      "\n",
      "options = [\"North\", \"East\", \"South\", \"West\"]\n",
      "selection = st.segmented_control(\n",
      "    \"Directions\", options, selection_mode=\"multi\"\n",
      ")\n",
      "st.markdown(f\"Your selected options: {selection}.\")\n",
      "\n",
      "Built with Streamlit 🎈Fullscreen open_in_newExample 2: Single-select segmented control with icons\n",
      "Display a single-select segmented control widget with icons:\n",
      "\n",
      "import streamlit as st\n",
      "\n",
      "option_map = {\n",
      "    0: \":material/add:\",\n",
      "    1: \":material/zoom_in:\",\n",
      "    2: \":material/zoom_out:\",\n",
      "    3: \":material/zoom_out_map:\",\n",
      "}\n",
      "selection = st.segmented_control(\n",
      "    \"Tool\",\n",
      "    options=option_map.keys(),\n",
      "    format_func=lambda option: option_map[option],\n",
      "    selection_mode=\"single\",\n",
      ")\n",
      "st.write(\n",
      "    \"Your selected option: \"\n",
      "    f\"{None if selection is None else option_map[selection]}\"\n",
      ")\n",
      "\n",
      "Built with Streamlit 🎈Fullscreen open_in_new\n",
      "Previous: st.radioNext: st.selectboxforumStill have questions?Our forums are full of helpful information and Streamlit experts.HomeContact UsCommunity© 2024 Snowflake Inc.Cookie policyforum Ask AI' metadata={'source': 'https://docs.streamlit.io/develop/api-reference/widgets/st.segmented_control', 'title': 'st.segmented_control - Streamlit Docs', 'description': 'st.segmented_control displays a select widget where options display in a segmented button.', 'language': 'No language found.'}\n"
     ]
    }
   ],
   "source": [
    "for doc in docs:\n",
    "    print(doc[\"page\"])"
   ]
  },
  {
   "cell_type": "code",
   "execution_count": 4,
   "metadata": {},
   "outputs": [
    {
     "data": {
      "text/plain": [
       "1"
      ]
     },
     "execution_count": 4,
     "metadata": {},
     "output_type": "execute_result"
    }
   ],
   "source": [
    "len(docs)"
   ]
  },
  {
   "cell_type": "code",
   "execution_count": 5,
   "metadata": {},
   "outputs": [
    {
     "name": "stderr",
     "output_type": "stream",
     "text": [
      "/tmp/ipykernel_3858311/1582680857.py:1: LangChainDeprecationWarning: The method `Chain.run` was deprecated in langchain 0.1.0 and will be removed in 1.0. Use :meth:`~invoke` instead.\n",
      "  print(stuff_chain.run(docs))\n"
     ]
    },
    {
     "name": "stdout",
     "output_type": "stream",
     "text": [
      "The st.segmented_control function in Streamlit allows users to display a segmented control widget, which is a set of toggle buttons. The function takes parameters such as label, options, selection_mode, default, format_func, key, help, on_change, args, kwargs, disabled, and label_visibility. It returns a list of selected options if the selection mode is multi, or a selected option if the selection mode is single. The function can be used to create multi-select or single-select segmented control widgets with optional icons.\n"
     ]
    }
   ],
   "source": [
    "print(stuff_chain.run(docs))"
   ]
  },
  {
   "cell_type": "markdown",
   "metadata": {},
   "source": [
    "##  Run with WEAVIATE"
   ]
  },
  {
   "cell_type": "code",
   "execution_count": 6,
   "metadata": {},
   "outputs": [
    {
     "data": {
      "text/plain": [
       "<weaviate.client.WeaviateClient at 0x7f3206ae1780>"
      ]
     },
     "execution_count": 6,
     "metadata": {},
     "output_type": "execute_result"
    }
   ],
   "source": [
    "import os \n",
    "from dotenv import load_dotenv\n",
    "load_dotenv(\"/datadrive/CuongHV/sma_ai/api/.env\")\n",
    "\n",
    "import weaviate\n",
    "client = weaviate.connect_to_custom(\n",
    "    http_host= os.environ.get(\"WEAVIATE_HOST\"), #\"10.100.224.34\",  # URL only, no http prefix\n",
    "    http_port= os.environ.get(\"WEAVIATE_HOST_PORT\"), #\"8080\",\n",
    "    http_secure=False ,   # Set to True if https\n",
    "    grpc_host= os.environ.get(\"WEAVIATE_GPC_URL\"),#  \"10.100.224.34\",\n",
    "    grpc_port= os.environ.get(\"WEAVIATE_GPC_URL_PORT\"),#\"50051\",      # Default is 50051, WCD uses 443\n",
    "    grpc_secure=False,   # Edit as needed\n",
    "    skip_init_checks=True,\n",
    ")\n",
    "client"
   ]
  },
  {
   "cell_type": "code",
   "execution_count": 8,
   "metadata": {},
   "outputs": [
    {
     "data": {
      "text/plain": [
       "[Object(uuid=_WeaviateUUIDInt('3a7e230d-ef33-49a8-9f1c-d6b25053479c'), metadata=MetadataReturn(creation_time=None, last_update_time=None, distance=None, certainty=None, score=None, explain_score=None, is_consistent=None, rerank_score=None), properties={'text': 'Inter-Team\\nDependencies\\nDescription\\nThe\\nproject\\ndepends\\non\\ntimely\\nresponses\\nfrom\\nthe\\nEBOOST\\nteam.\\nDela ys\\non\\ntheir\\nend\\nwill\\nimpact\\noverall\\nproject\\ntimelines.\\nImpact\\nExtended\\ntimelines.\\nMitigation\\nEstablish\\nclear\\ncommunication\\nprotocols\\nwith\\nthe\\nEBOOST\\nteam,\\noutlining\\nexpect ed\\nresponse\\ntimes\\nand\\ndeliv ery\\ndeadlines.\\nKnowledge\\nGap\\nBridging\\nDescription\\nLimit ed\\nunderstanding\\nof\\nsoftwar e\\nengineering\\nprinciples\\nby\\nthe\\nEBOOST\\nteam\\ncould\\nlead\\nto\\nmisint erpretations\\nof\\nthe\\ninformation\\nprovided\\nto\\nus.\\nImpact\\nMiscommunication,\\nerrors\\nin\\nthe\\nprovided\\ninformation,\\nand\\npotential\\nrework\\non\\nproject\\ndeliv erables.\\nMitigation\\nProvide\\nclear\\nand\\ndetailed\\ninformation.\\nConduct\\nregular\\ncheck -ins\\nand\\nreviews\\nto\\nensur e\\nalignment.\\n6\\n', 'page': 5.0, 'source': 'eBoost - Project Dragon - System Documentation Timeline.pdf'}, references=None, vector={}, collection='LangChain_da9b7bb158e64c93bea491df09894psd'),\n",
       " Object(uuid=_WeaviateUUIDInt('58e0e852-1613-44b9-9590-fd3dddc536c9'), metadata=MetadataReturn(creation_time=None, last_update_time=None, distance=None, certainty=None, score=None, explain_score=None, is_consistent=None, rerank_score=None), properties={'text': 'Phase\\n1\\x00\\nSystem\\nDocumentation\\nWeek\\n1\\n-\\n2\\nTasks\\n01\\n-\\n05\\n●\\nMeasur ement\\nof\\nresour ce\\nusage\\nby\\ntype\\nof\\nservice\\ndeplo yed\\nin\\nthe\\ncloud.\\n\\x00P1_W1_T01\\x00\\n●\\nDetailed\\ninsight s\\ninto\\nhardwar e\\nutilization\\nand\\nsystem\\nbeha vior.\\x00P1_W1_T02\\x00\\n●\\nSpecification\\nsheet s\\noutlining\\nkey\\nsystem\\nspecs,\\ndependencies,\\nand\\nversions.\\n\\x00P1_W1|2_ T03\\x00\\n●\\nIntegration\\nwith\\nthird-par ty\\nplatf orms.\\n\\x00P1_W2_ T04\\x00\\n●\\nDocumentation\\nof\\nmanual\\nprocesses\\nand\\noperational\\nprocedur es\\nfor\\ntroubleshooting\\nand\\nmaint enance\\n(incl.\\nensuring\\nproper\\nlogging\\nand\\nmonit oring\\nis\\ndefined).\\n\\x00P1_W2_ T05\\x00\\nWeek\\n3\\n-\\n4\\nTasks\\n06\\n-\\n10\\n●\\nUpdat ed\\narchitectur e\\ndiagrams\\ndetailing\\ninfrastructur e\\nand\\nsoftwar e\\ncomponent s.\\n\\x00P1_W3_ T06\\x00\\n●\\nCode\\nquality /metrics\\nchar ts/repor ts,\\nincluding\\nissues\\nby\\nseverity/categor y,\\ncode\\ncoverage\\nby\\nunit\\ntests,\\nand\\nso\\non.\\n\\x00P1_W3_ T07\\x00\\n●\\nDatabase\\nquality /metrics\\nchar ts/repor ts,\\nincluding\\nnormalization,\\nindexing\\nstrat egies,\\nbackup\\npolicies,\\nand\\noverall\\ndatabase\\nperformance.\\n\\x00P1_W3|4_ T08\\x00\\n●\\nRecommendation\\nfor\\nan\\nimpr oved\\ndeplo yment\\narchitectur e\\nand\\nimpact\\non\\nthe\\nsoftwar e\\nto\\nsustain\\nfurther\\nscalability\\nand\\nhigh-a vailability .\\n\\x00P1_W4_T09\\x00\\n●\\nContinuous\\nIntegration/Continuous\\nDeplo yment\\n\\x00CI/CD\\x00\\nreview\\nto\\nensur e\\nautomat ed\\ndeliv ery\\nin\\nUAT\\nand\\nProduction,\\nincluding\\nrollback\\ncapabilities\\nif\\nnecessar y.\\n\\x00P1_W4_T10\\x00\\n9\\n', 'page': 8.0, 'source': 'eBoost - Project Dragon - System Documentation Timeline.pdf'}, references=None, vector={}, collection='LangChain_da9b7bb158e64c93bea491df09894psd'),\n",
       " Object(uuid=_WeaviateUUIDInt('6ec25e5f-f116-4f77-a11c-ce58b5bae618'), metadata=MetadataReturn(creation_time=None, last_update_time=None, distance=None, certainty=None, score=None, explain_score=None, is_consistent=None, rerank_score=None), properties={'text': 'Timeline\\n11\\nExpected\\nDeliverables\\n(Phase\\n1)\\n11\\nC4\\nModels\\n11\\nDocuments\\n11\\nExpected\\nDeliverables\\n(Phase\\n2)\\n12\\nTime\\nand\\nResource\\nAllocation\\n12\\nSummary\\n12\\n3\\n', 'page': 2.0, 'source': 'eBoost - Project Dragon - System Documentation Timeline.pdf'}, references=None, vector={}, collection='LangChain_da9b7bb158e64c93bea491df09894psd'),\n",
       " Object(uuid=_WeaviateUUIDInt('722de2d2-acc8-4e4c-89b6-b1c551c179c1'), metadata=MetadataReturn(creation_time=None, last_update_time=None, distance=None, certainty=None, score=None, explain_score=None, is_consistent=None, rerank_score=None), properties={'text': 'Effective\\nCommunication\\nManagement\\nDescription\\nMiscommunication\\nor\\nlack\\nof\\nclarity\\nbetw een\\nstakeholders\\ncould\\nlead\\nto\\nmisunderstandings\\nand\\nmisaligned\\nexpectations.\\nImpact\\nDela yed\\ndecision-making,\\nrework,\\nand\\ncompr omised\\nproject\\noutcomes.\\nMitigation\\nEstablish\\nclear\\ncommunication\\nchannels\\nwith\\ndefined\\nroles\\nand\\nresponsibilities.\\nDocument\\nkey\\ndecisions\\nand\\nagreement s\\nfor\\nreference.\\nConduct\\nregular\\nprogress\\nreviews\\nand\\nstatus\\nupdat es\\nto\\nmaintain\\ntranspar ency\\nand\\nmanage\\nexpectations.\\nProject\\nGoals\\n●\\nSet\\nup\\nand\\noperat e\\nthe\\ncurrent\\ntesting\\nsystem\\nalongside\\nthe\\nexisting\\nproduction\\nsystem,\\nor\\nensur e\\nclear\\ninstructions\\nfor\\noperating\\nthe\\nproduction\\nsystem.\\n●\\nTransition\\nthis\\nsetup\\nto\\nthe\\nproduction\\nenvironment\\nsmoot hly,\\nensuring\\nit\\nruns\\nwithout\\nissues.\\n●\\nImplement\\na\\nprocess\\nfor\\nContinuous\\nIntegration/Continuous\\nDeplo yment\\n\\x00CI/CD\\x00.\\n●\\nDocument\\nthe\\nnew\\nsetup\\nand\\nprocesses\\nthoroughly ,\\nincluding\\ndetailed\\nspecifications.\\n8\\n', 'page': 7.0, 'source': 'eBoost - Project Dragon - System Documentation Timeline.pdf'}, references=None, vector={}, collection='LangChain_da9b7bb158e64c93bea491df09894psd'),\n",
       " Object(uuid=_WeaviateUUIDInt('789ce3c4-5d02-4a8a-a83d-0731d8bd6bb7'), metadata=MetadataReturn(creation_time=None, last_update_time=None, distance=None, certainty=None, score=None, explain_score=None, is_consistent=None, rerank_score=None), properties={'text': \"Summary\\nThe\\nEBOOST\\nDragon\\nProject's\\nSyst em\\nDocumentation\\nTimeline\\ndelineat es\\na\\ntwo-phase\\ninitiativ e\\naimed\\nat\\nenhancing\\nsystem\\nunderstanding,\\nscalability\\nand\\nefficienc y.\\nPhase\\n1\\nfocuses\\non\\ndocumenting\\nsystem\\narchitectur e\\nand\\nprocesses,\\nwhile\\nPhase\\n2\\nemphasiz es\\ndeplo yment\\nand\\nimplementation\\nstrat egies.\\nDeliv erables\\ninclude\\nupdat ed\\narchitectur e\\ndiagrams,\\ncode\\nquality\\nrepor ts,\\nand\\ndeplo yment\\nrecommendations.\\nResour ce\\nallocation\\nconstraint s\\nand\\nclient\\ncollaboration\\nare\\nkey\\nconsiderations\\nthroughout\\nthe\\nproject.\\nFurther\\nclarification\\nis\\nneeded\\nfor\\nPhase\\n2\\ndeliv erables,\\nbut\\nthe\\ndocument\\nprovides\\na\\nstructur ed\\nframe work\\nfor\\nsuccessful\\nproject\\nexecution.\\n13\\n\", 'page': 12.0, 'source': 'eBoost - Project Dragon - System Documentation Timeline.pdf'}, references=None, vector={}, collection='LangChain_da9b7bb158e64c93bea491df09894psd'),\n",
       " Object(uuid=_WeaviateUUIDInt('87cd3520-40ef-4a60-b6b5-b91f25d2cc01'), metadata=MetadataReturn(creation_time=None, last_update_time=None, distance=None, certainty=None, score=None, explain_score=None, is_consistent=None, rerank_score=None), properties={'text': 'Collaborative\\nConfidence\\nBuilding\\nDescription\\nWhile\\nwe\\naim\\nto\\ninstill\\nconfidence\\nin\\nthe\\nEBOOST\\nteam,\\ntheir\\nexisting\\nskill\\nsets\\nmight\\nlimit\\ntheir\\nability\\nto\\nfully\\nembrace\\nproject\\ngoals.\\nImpact\\nReduced\\nefficienc y,\\nresistance\\nto\\nproposed\\nsolutions,\\nand\\npotential\\npushback\\non\\nproject\\nchanges.\\nMitigation\\nFocus\\non\\nproviding\\nvalue-added\\nservices\\nand\\nguidance\\nbut\\nwithout\\nassuming\\nresponsibility\\nfor\\ntraining.\\nClearly\\ndefine\\nroles\\nand\\nresponsibilities\\nto\\nmanage\\nexpectations\\nand\\nfoster\\ncollaboration.\\nUnforeseen\\nExternal\\nDelays\\nDescription\\nUnforeseen\\ntechnical\\nchallenges\\nor\\nexternal\\ndependencies\\nbeyond\\nour\\ncontr ol\\nwill\\ncause\\nproject\\ndelays.\\nImpact\\nDisruption\\nof\\nproject\\ntimelines,\\nincreased\\nresour ce\\nutilization,\\nand\\npotential\\nconflict s\\nwith\\nclient\\nexpectations.\\nMitigation\\nConduct\\nregular\\nrisk\\nassessment s\\nto\\nproactiv ely\\nidentify\\npotential\\ndelays.\\nImplement\\nagile\\nproject\\nmanagement\\npractices\\nto\\nadapt\\nto\\nchanging\\ncircumstances\\nand\\nminimiz e\\nimpact.\\n7\\n', 'page': 6.0, 'source': 'eBoost - Project Dragon - System Documentation Timeline.pdf'}, references=None, vector={}, collection='LangChain_da9b7bb158e64c93bea491df09894psd'),\n",
       " Object(uuid=_WeaviateUUIDInt('a5fe2282-2a67-4602-9d52-98734541f45b'), metadata=MetadataReturn(creation_time=None, last_update_time=None, distance=None, certainty=None, score=None, explain_score=None, is_consistent=None, rerank_score=None), properties={'text': 'Timeline\\nTasks\\nmarked\\nin\\ngreen\\nindicate\\na\\nwork\\nperiod\\nfrom\\nFriday\\nto\\nMonday.\\nHowever,\\nplease\\nnote\\nthat\\nthis\\nextended\\ntimeframe\\nmust\\nnot\\nbe\\nconsidered\\nas\\nweekend\\nwork\\nfor\\nthe\\nteam.\\nPhase\\n2\\x00\\nDeployment/Implementation\\nWeek\\n1\\n-\\n2\\nTasks\\n1\\n-\\n3\\n●\\nDeplo yment\\nof\\nan\\nenvironment\\nmirroring\\nthe\\nproduction\\nto\\nensur e\\nfully\\nintegrat ed\\nworking/pr oductiv e\\nenvironment\\n(including\\nback end-fr ontend),\\ncontinuous\\nroll-out\\nin\\nproduction\\nis\\npossible\\nwithout\\nany\\nmanual\\noperations\\n(environment\\nmust\\nbe\\nprovided\\nby\\nthe\\ncustomer\\naccor ding\\nto\\nthe\\nagreed\\nspecs\\nby\\nKyanon/EBOOST\\x00.\\n\\x00P2_W1 _T1\\x00\\n●\\nRecommend,\\nset-up\\nand\\nagree\\nwith\\nEBOOST\\na\\ntransition\\nplan\\nfrom\\n‘newʼ\\nmirroring\\nsystem\\nto\\nproductiv e\\n(or\\nhando ver\\ncurrent\\nproductiv e\\nproperly\\nto\\nin-\\nhouse\\nteam),\\nso\\nthat\\nthe\\n‘productiv eʼ\\nenvironment\\ncan\\nbe\\nfully\\nrun\\nand\\nmaintained\\nby\\nEBOOST\\nin-house\\nteam.\\n\\x00P2_W1|2_ T2\\x00\\n●\\nImplement\\nthe\\ntransition\\n(or\\nensur e\\nthe\\nproductiv e\\nsystem\\nis\\nfully\\nrun\\nin\\nhands\\nof\\nEBOOST\\nfollowing\\ndocumentation\\nphase\\n1\\x00.\\n\\x00P2_W2_ T3\\x00\\n10\\n', 'page': 9.0, 'source': 'eBoost - Project Dragon - System Documentation Timeline.pdf'}, references=None, vector={}, collection='LangChain_da9b7bb158e64c93bea491df09894psd'),\n",
       " Object(uuid=_WeaviateUUIDInt('bc3f6a73-f9be-4681-aed7-776d88164230'), metadata=MetadataReturn(creation_time=None, last_update_time=None, distance=None, certainty=None, score=None, explain_score=None, is_consistent=None, rerank_score=None), properties={'text': 'Introduction\\n5\\nConstraints\\n5\\nRisk\\nManagement\\nPlan\\n5\\nInter-Team\\nDependencies\\n6\\nDescription\\n6\\nImpact\\n6\\nMitigation\\n6\\nKnowledge\\nGap\\nBridging\\n6\\nDescription\\n6\\nImpact\\n6\\nMitigation\\n6\\nCollaborative\\nConfidence\\nBuilding\\n7\\nDescription\\n7\\nImpact\\n7\\nMitigation\\n7\\nUnforeseen\\nExternal\\nDelays\\n7\\nDescription\\n7\\nImpact\\n7\\nMitigation\\n7\\nEffective\\nCommunication\\nManagement\\n8\\nDescription\\n8\\nImpact\\n8\\nMitigation\\n8\\nProject\\nGoal\\n8\\nPhase\\n1:\\nSystem\\nDocumentation\\n8\\nWeek\\n1\\n-\\n2\\n8\\nTasks\\n01\\n-\\n05\\n8\\nWeek\\n3\\n-\\n4\\n9\\nTasks\\n06\\n-\\n10\\n9\\nTimeline\\n9\\nPhase\\n2:\\nDeployment/Implementation\\n10\\nWeek\\n1\\n-\\n2\\n10\\nTasks\\n1\\n-\\n3\\n10\\nWeek\\n3\\n-\\n4\\n10\\nTasks\\n4\\n-\\n5\\n10\\nWeek\\n5\\n11\\nTask\\n6\\n11\\n2\\n', 'page': 1.0, 'source': 'eBoost - Project Dragon - System Documentation Timeline.pdf'}, references=None, vector={}, collection='LangChain_da9b7bb158e64c93bea491df09894psd'),\n",
       " Object(uuid=_WeaviateUUIDInt('c2e6eac3-4c8d-4671-bab7-ca57d2dab278'), metadata=MetadataReturn(creation_time=None, last_update_time=None, distance=None, certainty=None, score=None, explain_score=None, is_consistent=None, rerank_score=None), properties={'text': 'EBOOST\\n-\\nProject\\nDragon\\nSystem\\nDocumentation\\nTimeline\\nVersion\\n0.3\\nV i e t n a m\\nO f f i c e\\n0 1\\nS i n g a p o r e\\nO f f i c e\\nC o n t a c t\\n294\\n–\\n296\\nTruong\\nSa,\\nWard\\n02,\\n7\\nStraits\\nView,\\nMarina\\nOne\\nEast\\nTower,\\nWeb:\\nhttps://kyanon.digital\\nPhu\\nNhuan\\nDistrict,\\nHCMC\\n#05\\x0001,\\nSingapore\\n018936\\nEmail:\\ncontact@kyanon.digital\\nV i e t n a m\\nO f f i c e\\n0 2\\nPhone:\\n\\x00\\x0084\\x00\\n283\\n5171\\n080\\n09\\nHoa\\nCau,\\nWard\\n07,\\nPhu\\nNhuan\\nDistrict,\\nHCMC\\n1\\n', 'page': 0.0, 'source': 'eBoost - Project Dragon - System Documentation Timeline.pdf'}, references=None, vector={}, collection='LangChain_da9b7bb158e64c93bea491df09894psd'),\n",
       " Object(uuid=_WeaviateUUIDInt('c7152772-761a-4a10-b650-8fb80a76e7fc'), metadata=MetadataReturn(creation_time=None, last_update_time=None, distance=None, certainty=None, score=None, explain_score=None, is_consistent=None, rerank_score=None), properties={'text': \"●\\nIntegration\\nLandscape\\n●\\nCI/CD\\nPipeline\\nLandscape\\n●\\nDeplo yment\\nLandscape\\n(not\\nsure)\\nDocuments\\n●\\nTechnology\\nStack\\n●\\nSyst em\\nspecs,\\ndependencies,\\nand\\nversions\\n●\\nCloud\\nand\\nHardwar e\\nspecifications\\nand\\nusage\\n●\\nManual\\nprocesses\\nlisting\\nand\\ndependencies\\n●\\nIntegration\\nwith\\n3rd\\nparty\\nservices\\n●\\nCode\\nQuality\\nChar ts/Repor ts\\n●\\nDatabase\\nQuality\\nChar ts/Repor ts\\n(not\\nsure)\\n●\\nCI/CD\\nPipeline\\nReview\\nand\\nRecommendations\\n●\\nDeplo yment\\nReview\\nand\\nRecommendations\\nExpected\\nDeliverables\\n\\x00Phase\\n2\\x00\\nTBD.\\nTime\\nand\\nResource\\nAllocation\\n●\\nIdeally ,\\neach\\n15\\nman\\ndays\\nphase\\nshould\\nspan\\na\\n5-week\\nperiod\\nto\\naccommodat e\\nthe\\ntime\\nrequir ed\\nfor\\nthe\\nclient's\\nteam\\nto\\nreview\\nthe\\ndeliv erables\\non\\na\\nweekly\\nbasis.\\n●\\nOur\\nteam's\\ncapabilities\\nare\\nnot\\nsolely\\ndedicat ed\\nto\\nthis\\nproject,\\nand\\nresour ce\\nallocation\\nmay\\nbe\\nshared\\namong\\nmultiple\\nproject s\\nor\\ntasks.\\nThis\\nconstraint\\nshould\\nbe\\nconsider ed\\nwhen\\nplanning\\nand\\nscheduling\\nproject\\nactivities.\\n12\\n\", 'page': 11.0, 'source': 'eBoost - Project Dragon - System Documentation Timeline.pdf'}, references=None, vector={}, collection='LangChain_da9b7bb158e64c93bea491df09894psd'),\n",
       " Object(uuid=_WeaviateUUIDInt('ebb30a68-ead4-4417-9162-76d35b6ee7d2'), metadata=MetadataReturn(creation_time=None, last_update_time=None, distance=None, certainty=None, score=None, explain_score=None, is_consistent=None, rerank_score=None), properties={'text': 'Week\\n3\\n-\\n4\\nTasks\\n4\\n-\\n5\\n●\\nImplementation\\nof\\nContinuous\\nIntegration\\nand\\nContinuous\\nDeplo yment\\n\\x00CI/CD\\x00\\npipeline\\nfor\\nseamless\\ncode\\nintegration\\nand\\ndeplo yment\\n(at\\nleast\\ntest\\nthe\\nprocess\\nwith\\nin-house\\nteam\\n3\\nfeatur es).\\n\\x00P2_W3_ T4\\x00\\n●\\nDevOps\\nadvisor y\\nto\\nstreamline\\ndevelopment,\\ntesting,\\nand\\ndeplo yment\\nworkflo ws.\\n\\x00P2_W 4_T5\\x00\\nWeek\\n5\\nTask\\n6\\n●\\nExploration\\nof\\nauto-scaling\\nand\\nrollback\\nmechanisms\\nto\\nensur e\\nsystem\\nreliability\\nand\\navailability .\\n\\x00P2_W5_ T6\\x00\\nTimeline\\nExpected\\nDeliverables\\n\\x00Phase\\n1\\x00\\nC4\\nModels\\n●\\nHigh\\nLevel\\nSolution\\nArchitectur e\\n●\\nLogical\\nArchitectur e\\n●\\nApplication\\nLandscape\\n●\\nPhysical\\nLandscape\\n11\\n', 'page': 10.0, 'source': 'eBoost - Project Dragon - System Documentation Timeline.pdf'}, references=None, vector={}, collection='LangChain_da9b7bb158e64c93bea491df09894psd'),\n",
       " Object(uuid=_WeaviateUUIDInt('efc89731-3ea6-4ddd-a601-36b9bc3cf421'), metadata=MetadataReturn(creation_time=None, last_update_time=None, distance=None, certainty=None, score=None, explain_score=None, is_consistent=None, rerank_score=None), properties={'text': \"Introduction\\nThis\\ndocument\\ndelineat es\\na\\ncompr ehensiv e\\ninitiativ e\\naimed\\nat\\ndocumenting\\nthe\\nsystem\\narchitectur e\\nand\\nimplementing\\ndeplo yment\\nstrat egies\\nto\\nimpr ove\\nscalability\\nand\\nefficienc y\\nfor\\nthe\\nEBOOST\\nDragon\\nProject.\\nIt\\nis\\ndivided\\ninto\\ntwo\\ndistinct\\nphases:\\n●\\nSyst em\\nDocumentation\\n●\\nDeplo yment/Implementation\\nConstraints\\n●\\nA\\nkickoff\\nmeeting\\nwith\\nthe\\nclient\\nmust\\nbe\\nscheduled\\nprior\\nto\\nstarting\\nthe\\nproject\\nto\\ndefine\\ncontact\\npoint s\\nand\\nestablish\\nproject\\nscope.\\n●\\nAccess\\nto\\nessential\\ntools\\nand\\nplatf orms\\nsuch\\nas\\nGit,\\nCI/CD ,\\nand\\nGCP\\nmust\\nbe\\ngrant ed\\nbefore\\nPhase\\n1\\nbegins.\\n●\\nAll\\nrelevant\\ndocumentation,\\nincluding\\nupdat es\\nfrom\\nthe\\nclient,\\nmust\\nbe\\nprovided\\nbefore\\nPhase\\n1\\nstarts\\nto\\nassist\\nwith\\nreference\\nand\\nintegration\\ninto\\nthe\\nproject.\\n●\\nAvailability\\nof\\nproject\\nteam\\nmembers\\nand\\nrequir ed\\nresour ces\\nmust\\nbe\\nensur ed\\naccor ding\\nto\\nthe\\nagreed\\ntimeline.\\n●\\nKey\\nstakeholders\\nmust\\nbe\\naccessible\\nfor\\nmeetings,\\nreviews,\\nand\\ndecision-making\\nprocesses\\nthroughout\\nthe\\nproject's\\nlifecycle.\\nRisk\\nManagement\\nPlan\\nThis\\nsection\\noutlines\\npotential\\nrisks\\nassociat ed\\nwith\\nthe\\nproject\\nand\\nproposes\\nmitigation\\nstrat egies\\nto\\nensur e\\nsuccessful\\ncompletion.\\n5\\n\", 'page': 4.0, 'source': 'eBoost - Project Dragon - System Documentation Timeline.pdf'}, references=None, vector={}, collection='LangChain_da9b7bb158e64c93bea491df09894psd'),\n",
       " Object(uuid=_WeaviateUUIDInt('f3c494d7-f205-4738-bcc4-b809c41363ea'), metadata=MetadataReturn(creation_time=None, last_update_time=None, distance=None, certainty=None, score=None, explain_score=None, is_consistent=None, rerank_score=None), properties={'text': 'A\\nDocument\\nAppr oval\\nBaseline\\nVersion\\nApproved\\nDate\\nReviewer\\nApprover\\nDocument\\nRevision\\nHistory\\nVersion\\nDate\\nAuthor\\nChange\\nDescription\\n0.1\\n08/03/2024\\nRossano\\nSzczepanski\\nFirst\\nversion\\n0.2\\n14/03/2024\\nRossano\\nSzczepanski\\nRisk\\nmanagement\\nplan\\n0.3\\n14/03/2024\\nRossano\\nSzczepanski\\nPhase\\n1\\nTimeline\\nhas\\nupdated\\nas\\nrequested\\n0.4\\n15/03/2024\\nRossano\\nSzczepanski\\nUpdated\\nProject\\nGoals\\ntexting\\n4\\n', 'page': 3.0, 'source': 'eBoost - Project Dragon - System Documentation Timeline.pdf'}, references=None, vector={}, collection='LangChain_da9b7bb158e64c93bea491df09894psd')]"
      ]
     },
     "execution_count": 8,
     "metadata": {},
     "output_type": "execute_result"
    }
   ],
   "source": [
    "multi_collection = client.collections.get(\"LangChain_da9b7bb158e64c93bea491df09894psd\")\n",
    "my_tenant = multi_collection.with_tenant(\"deploy_mind_2bf4ef9254f64c1595ccacaef8d8ba67\")\n",
    "response = my_tenant.query.fetch_objects(include_vector=False)\n",
    "response.objects"
   ]
  },
  {
   "cell_type": "code",
   "execution_count": 13,
   "metadata": {},
   "outputs": [
    {
     "data": {
      "text/plain": [
       "[Document(metadata={'source': 'Inter-Team\\nDependencies\\nDescription\\nThe\\nproject\\ndepends\\non\\ntimely\\nresponses\\nfrom\\nthe\\nEBOOST\\nteam.\\nDela ys\\non\\ntheir\\nend\\nwill\\nimpact\\noverall\\nproject\\ntimelines.\\nImpact\\nExtended\\ntimelines.\\nMitigation\\nEstablish\\nclear\\ncommunication\\nprotocols\\nwith\\nthe\\nEBOOST\\nteam,\\noutlining\\nexpect ed\\nresponse\\ntimes\\nand\\ndeliv ery\\ndeadlines.\\nKnowledge\\nGap\\nBridging\\nDescription\\nLimit ed\\nunderstanding\\nof\\nsoftwar e\\nengineering\\nprinciples\\nby\\nthe\\nEBOOST\\nteam\\ncould\\nlead\\nto\\nmisint erpretations\\nof\\nthe\\ninformation\\nprovided\\nto\\nus.\\nImpact\\nMiscommunication,\\nerrors\\nin\\nthe\\nprovided\\ninformation,\\nand\\npotential\\nrework\\non\\nproject\\ndeliv erables.\\nMitigation\\nProvide\\nclear\\nand\\ndetailed\\ninformation.\\nConduct\\nregular\\ncheck -ins\\nand\\nreviews\\nto\\nensur e\\nalignment.\\n6\\n', 'page': 5.0}, page_content='Inter-Team\\nDependencies\\nDescription\\nThe\\nproject\\ndepends\\non\\ntimely\\nresponses\\nfrom\\nthe\\nEBOOST\\nteam.\\nDela ys\\non\\ntheir\\nend\\nwill\\nimpact\\noverall\\nproject\\ntimelines.\\nImpact\\nExtended\\ntimelines.\\nMitigation\\nEstablish\\nclear\\ncommunication\\nprotocols\\nwith\\nthe\\nEBOOST\\nteam,\\noutlining\\nexpect ed\\nresponse\\ntimes\\nand\\ndeliv ery\\ndeadlines.\\nKnowledge\\nGap\\nBridging\\nDescription\\nLimit ed\\nunderstanding\\nof\\nsoftwar e\\nengineering\\nprinciples\\nby\\nthe\\nEBOOST\\nteam\\ncould\\nlead\\nto\\nmisint erpretations\\nof\\nthe\\ninformation\\nprovided\\nto\\nus.\\nImpact\\nMiscommunication,\\nerrors\\nin\\nthe\\nprovided\\ninformation,\\nand\\npotential\\nrework\\non\\nproject\\ndeliv erables.\\nMitigation\\nProvide\\nclear\\nand\\ndetailed\\ninformation.\\nConduct\\nregular\\ncheck -ins\\nand\\nreviews\\nto\\nensur e\\nalignment.\\n6\\n'),\n",
       " Document(metadata={'source': 'Phase\\n1\\x00\\nSystem\\nDocumentation\\nWeek\\n1\\n-\\n2\\nTasks\\n01\\n-\\n05\\n●\\nMeasur ement\\nof\\nresour ce\\nusage\\nby\\ntype\\nof\\nservice\\ndeplo yed\\nin\\nthe\\ncloud.\\n\\x00P1_W1_T01\\x00\\n●\\nDetailed\\ninsight s\\ninto\\nhardwar e\\nutilization\\nand\\nsystem\\nbeha vior.\\x00P1_W1_T02\\x00\\n●\\nSpecification\\nsheet s\\noutlining\\nkey\\nsystem\\nspecs,\\ndependencies,\\nand\\nversions.\\n\\x00P1_W1|2_ T03\\x00\\n●\\nIntegration\\nwith\\nthird-par ty\\nplatf orms.\\n\\x00P1_W2_ T04\\x00\\n●\\nDocumentation\\nof\\nmanual\\nprocesses\\nand\\noperational\\nprocedur es\\nfor\\ntroubleshooting\\nand\\nmaint enance\\n(incl.\\nensuring\\nproper\\nlogging\\nand\\nmonit oring\\nis\\ndefined).\\n\\x00P1_W2_ T05\\x00\\nWeek\\n3\\n-\\n4\\nTasks\\n06\\n-\\n10\\n●\\nUpdat ed\\narchitectur e\\ndiagrams\\ndetailing\\ninfrastructur e\\nand\\nsoftwar e\\ncomponent s.\\n\\x00P1_W3_ T06\\x00\\n●\\nCode\\nquality /metrics\\nchar ts/repor ts,\\nincluding\\nissues\\nby\\nseverity/categor y,\\ncode\\ncoverage\\nby\\nunit\\ntests,\\nand\\nso\\non.\\n\\x00P1_W3_ T07\\x00\\n●\\nDatabase\\nquality /metrics\\nchar ts/repor ts,\\nincluding\\nnormalization,\\nindexing\\nstrat egies,\\nbackup\\npolicies,\\nand\\noverall\\ndatabase\\nperformance.\\n\\x00P1_W3|4_ T08\\x00\\n●\\nRecommendation\\nfor\\nan\\nimpr oved\\ndeplo yment\\narchitectur e\\nand\\nimpact\\non\\nthe\\nsoftwar e\\nto\\nsustain\\nfurther\\nscalability\\nand\\nhigh-a vailability .\\n\\x00P1_W4_T09\\x00\\n●\\nContinuous\\nIntegration/Continuous\\nDeplo yment\\n\\x00CI/CD\\x00\\nreview\\nto\\nensur e\\nautomat ed\\ndeliv ery\\nin\\nUAT\\nand\\nProduction,\\nincluding\\nrollback\\ncapabilities\\nif\\nnecessar y.\\n\\x00P1_W4_T10\\x00\\n9\\n', 'page': 8.0}, page_content='Phase\\n1\\x00\\nSystem\\nDocumentation\\nWeek\\n1\\n-\\n2\\nTasks\\n01\\n-\\n05\\n●\\nMeasur ement\\nof\\nresour ce\\nusage\\nby\\ntype\\nof\\nservice\\ndeplo yed\\nin\\nthe\\ncloud.\\n\\x00P1_W1_T01\\x00\\n●\\nDetailed\\ninsight s\\ninto\\nhardwar e\\nutilization\\nand\\nsystem\\nbeha vior.\\x00P1_W1_T02\\x00\\n●\\nSpecification\\nsheet s\\noutlining\\nkey\\nsystem\\nspecs,\\ndependencies,\\nand\\nversions.\\n\\x00P1_W1|2_ T03\\x00\\n●\\nIntegration\\nwith\\nthird-par ty\\nplatf orms.\\n\\x00P1_W2_ T04\\x00\\n●\\nDocumentation\\nof\\nmanual\\nprocesses\\nand\\noperational\\nprocedur es\\nfor\\ntroubleshooting\\nand\\nmaint enance\\n(incl.\\nensuring\\nproper\\nlogging\\nand\\nmonit oring\\nis\\ndefined).\\n\\x00P1_W2_ T05\\x00\\nWeek\\n3\\n-\\n4\\nTasks\\n06\\n-\\n10\\n●\\nUpdat ed\\narchitectur e\\ndiagrams\\ndetailing\\ninfrastructur e\\nand\\nsoftwar e\\ncomponent s.\\n\\x00P1_W3_ T06\\x00\\n●\\nCode\\nquality /metrics\\nchar ts/repor ts,\\nincluding\\nissues\\nby\\nseverity/categor y,\\ncode\\ncoverage\\nby\\nunit\\ntests,\\nand\\nso\\non.\\n\\x00P1_W3_ T07\\x00\\n●\\nDatabase\\nquality /metrics\\nchar ts/repor ts,\\nincluding\\nnormalization,\\nindexing\\nstrat egies,\\nbackup\\npolicies,\\nand\\noverall\\ndatabase\\nperformance.\\n\\x00P1_W3|4_ T08\\x00\\n●\\nRecommendation\\nfor\\nan\\nimpr oved\\ndeplo yment\\narchitectur e\\nand\\nimpact\\non\\nthe\\nsoftwar e\\nto\\nsustain\\nfurther\\nscalability\\nand\\nhigh-a vailability .\\n\\x00P1_W4_T09\\x00\\n●\\nContinuous\\nIntegration/Continuous\\nDeplo yment\\n\\x00CI/CD\\x00\\nreview\\nto\\nensur e\\nautomat ed\\ndeliv ery\\nin\\nUAT\\nand\\nProduction,\\nincluding\\nrollback\\ncapabilities\\nif\\nnecessar y.\\n\\x00P1_W4_T10\\x00\\n9\\n'),\n",
       " Document(metadata={'source': 'Timeline\\n11\\nExpected\\nDeliverables\\n(Phase\\n1)\\n11\\nC4\\nModels\\n11\\nDocuments\\n11\\nExpected\\nDeliverables\\n(Phase\\n2)\\n12\\nTime\\nand\\nResource\\nAllocation\\n12\\nSummary\\n12\\n3\\n', 'page': 2.0}, page_content='Timeline\\n11\\nExpected\\nDeliverables\\n(Phase\\n1)\\n11\\nC4\\nModels\\n11\\nDocuments\\n11\\nExpected\\nDeliverables\\n(Phase\\n2)\\n12\\nTime\\nand\\nResource\\nAllocation\\n12\\nSummary\\n12\\n3\\n'),\n",
       " Document(metadata={'source': 'Effective\\nCommunication\\nManagement\\nDescription\\nMiscommunication\\nor\\nlack\\nof\\nclarity\\nbetw een\\nstakeholders\\ncould\\nlead\\nto\\nmisunderstandings\\nand\\nmisaligned\\nexpectations.\\nImpact\\nDela yed\\ndecision-making,\\nrework,\\nand\\ncompr omised\\nproject\\noutcomes.\\nMitigation\\nEstablish\\nclear\\ncommunication\\nchannels\\nwith\\ndefined\\nroles\\nand\\nresponsibilities.\\nDocument\\nkey\\ndecisions\\nand\\nagreement s\\nfor\\nreference.\\nConduct\\nregular\\nprogress\\nreviews\\nand\\nstatus\\nupdat es\\nto\\nmaintain\\ntranspar ency\\nand\\nmanage\\nexpectations.\\nProject\\nGoals\\n●\\nSet\\nup\\nand\\noperat e\\nthe\\ncurrent\\ntesting\\nsystem\\nalongside\\nthe\\nexisting\\nproduction\\nsystem,\\nor\\nensur e\\nclear\\ninstructions\\nfor\\noperating\\nthe\\nproduction\\nsystem.\\n●\\nTransition\\nthis\\nsetup\\nto\\nthe\\nproduction\\nenvironment\\nsmoot hly,\\nensuring\\nit\\nruns\\nwithout\\nissues.\\n●\\nImplement\\na\\nprocess\\nfor\\nContinuous\\nIntegration/Continuous\\nDeplo yment\\n\\x00CI/CD\\x00.\\n●\\nDocument\\nthe\\nnew\\nsetup\\nand\\nprocesses\\nthoroughly ,\\nincluding\\ndetailed\\nspecifications.\\n8\\n', 'page': 7.0}, page_content='Effective\\nCommunication\\nManagement\\nDescription\\nMiscommunication\\nor\\nlack\\nof\\nclarity\\nbetw een\\nstakeholders\\ncould\\nlead\\nto\\nmisunderstandings\\nand\\nmisaligned\\nexpectations.\\nImpact\\nDela yed\\ndecision-making,\\nrework,\\nand\\ncompr omised\\nproject\\noutcomes.\\nMitigation\\nEstablish\\nclear\\ncommunication\\nchannels\\nwith\\ndefined\\nroles\\nand\\nresponsibilities.\\nDocument\\nkey\\ndecisions\\nand\\nagreement s\\nfor\\nreference.\\nConduct\\nregular\\nprogress\\nreviews\\nand\\nstatus\\nupdat es\\nto\\nmaintain\\ntranspar ency\\nand\\nmanage\\nexpectations.\\nProject\\nGoals\\n●\\nSet\\nup\\nand\\noperat e\\nthe\\ncurrent\\ntesting\\nsystem\\nalongside\\nthe\\nexisting\\nproduction\\nsystem,\\nor\\nensur e\\nclear\\ninstructions\\nfor\\noperating\\nthe\\nproduction\\nsystem.\\n●\\nTransition\\nthis\\nsetup\\nto\\nthe\\nproduction\\nenvironment\\nsmoot hly,\\nensuring\\nit\\nruns\\nwithout\\nissues.\\n●\\nImplement\\na\\nprocess\\nfor\\nContinuous\\nIntegration/Continuous\\nDeplo yment\\n\\x00CI/CD\\x00.\\n●\\nDocument\\nthe\\nnew\\nsetup\\nand\\nprocesses\\nthoroughly ,\\nincluding\\ndetailed\\nspecifications.\\n8\\n'),\n",
       " Document(metadata={'source': \"Summary\\nThe\\nEBOOST\\nDragon\\nProject's\\nSyst em\\nDocumentation\\nTimeline\\ndelineat es\\na\\ntwo-phase\\ninitiativ e\\naimed\\nat\\nenhancing\\nsystem\\nunderstanding,\\nscalability\\nand\\nefficienc y.\\nPhase\\n1\\nfocuses\\non\\ndocumenting\\nsystem\\narchitectur e\\nand\\nprocesses,\\nwhile\\nPhase\\n2\\nemphasiz es\\ndeplo yment\\nand\\nimplementation\\nstrat egies.\\nDeliv erables\\ninclude\\nupdat ed\\narchitectur e\\ndiagrams,\\ncode\\nquality\\nrepor ts,\\nand\\ndeplo yment\\nrecommendations.\\nResour ce\\nallocation\\nconstraint s\\nand\\nclient\\ncollaboration\\nare\\nkey\\nconsiderations\\nthroughout\\nthe\\nproject.\\nFurther\\nclarification\\nis\\nneeded\\nfor\\nPhase\\n2\\ndeliv erables,\\nbut\\nthe\\ndocument\\nprovides\\na\\nstructur ed\\nframe work\\nfor\\nsuccessful\\nproject\\nexecution.\\n13\\n\", 'page': 12.0}, page_content=\"Summary\\nThe\\nEBOOST\\nDragon\\nProject's\\nSyst em\\nDocumentation\\nTimeline\\ndelineat es\\na\\ntwo-phase\\ninitiativ e\\naimed\\nat\\nenhancing\\nsystem\\nunderstanding,\\nscalability\\nand\\nefficienc y.\\nPhase\\n1\\nfocuses\\non\\ndocumenting\\nsystem\\narchitectur e\\nand\\nprocesses,\\nwhile\\nPhase\\n2\\nemphasiz es\\ndeplo yment\\nand\\nimplementation\\nstrat egies.\\nDeliv erables\\ninclude\\nupdat ed\\narchitectur e\\ndiagrams,\\ncode\\nquality\\nrepor ts,\\nand\\ndeplo yment\\nrecommendations.\\nResour ce\\nallocation\\nconstraint s\\nand\\nclient\\ncollaboration\\nare\\nkey\\nconsiderations\\nthroughout\\nthe\\nproject.\\nFurther\\nclarification\\nis\\nneeded\\nfor\\nPhase\\n2\\ndeliv erables,\\nbut\\nthe\\ndocument\\nprovides\\na\\nstructur ed\\nframe work\\nfor\\nsuccessful\\nproject\\nexecution.\\n13\\n\"),\n",
       " Document(metadata={'source': 'Collaborative\\nConfidence\\nBuilding\\nDescription\\nWhile\\nwe\\naim\\nto\\ninstill\\nconfidence\\nin\\nthe\\nEBOOST\\nteam,\\ntheir\\nexisting\\nskill\\nsets\\nmight\\nlimit\\ntheir\\nability\\nto\\nfully\\nembrace\\nproject\\ngoals.\\nImpact\\nReduced\\nefficienc y,\\nresistance\\nto\\nproposed\\nsolutions,\\nand\\npotential\\npushback\\non\\nproject\\nchanges.\\nMitigation\\nFocus\\non\\nproviding\\nvalue-added\\nservices\\nand\\nguidance\\nbut\\nwithout\\nassuming\\nresponsibility\\nfor\\ntraining.\\nClearly\\ndefine\\nroles\\nand\\nresponsibilities\\nto\\nmanage\\nexpectations\\nand\\nfoster\\ncollaboration.\\nUnforeseen\\nExternal\\nDelays\\nDescription\\nUnforeseen\\ntechnical\\nchallenges\\nor\\nexternal\\ndependencies\\nbeyond\\nour\\ncontr ol\\nwill\\ncause\\nproject\\ndelays.\\nImpact\\nDisruption\\nof\\nproject\\ntimelines,\\nincreased\\nresour ce\\nutilization,\\nand\\npotential\\nconflict s\\nwith\\nclient\\nexpectations.\\nMitigation\\nConduct\\nregular\\nrisk\\nassessment s\\nto\\nproactiv ely\\nidentify\\npotential\\ndelays.\\nImplement\\nagile\\nproject\\nmanagement\\npractices\\nto\\nadapt\\nto\\nchanging\\ncircumstances\\nand\\nminimiz e\\nimpact.\\n7\\n', 'page': 6.0}, page_content='Collaborative\\nConfidence\\nBuilding\\nDescription\\nWhile\\nwe\\naim\\nto\\ninstill\\nconfidence\\nin\\nthe\\nEBOOST\\nteam,\\ntheir\\nexisting\\nskill\\nsets\\nmight\\nlimit\\ntheir\\nability\\nto\\nfully\\nembrace\\nproject\\ngoals.\\nImpact\\nReduced\\nefficienc y,\\nresistance\\nto\\nproposed\\nsolutions,\\nand\\npotential\\npushback\\non\\nproject\\nchanges.\\nMitigation\\nFocus\\non\\nproviding\\nvalue-added\\nservices\\nand\\nguidance\\nbut\\nwithout\\nassuming\\nresponsibility\\nfor\\ntraining.\\nClearly\\ndefine\\nroles\\nand\\nresponsibilities\\nto\\nmanage\\nexpectations\\nand\\nfoster\\ncollaboration.\\nUnforeseen\\nExternal\\nDelays\\nDescription\\nUnforeseen\\ntechnical\\nchallenges\\nor\\nexternal\\ndependencies\\nbeyond\\nour\\ncontr ol\\nwill\\ncause\\nproject\\ndelays.\\nImpact\\nDisruption\\nof\\nproject\\ntimelines,\\nincreased\\nresour ce\\nutilization,\\nand\\npotential\\nconflict s\\nwith\\nclient\\nexpectations.\\nMitigation\\nConduct\\nregular\\nrisk\\nassessment s\\nto\\nproactiv ely\\nidentify\\npotential\\ndelays.\\nImplement\\nagile\\nproject\\nmanagement\\npractices\\nto\\nadapt\\nto\\nchanging\\ncircumstances\\nand\\nminimiz e\\nimpact.\\n7\\n'),\n",
       " Document(metadata={'source': 'Timeline\\nTasks\\nmarked\\nin\\ngreen\\nindicate\\na\\nwork\\nperiod\\nfrom\\nFriday\\nto\\nMonday.\\nHowever,\\nplease\\nnote\\nthat\\nthis\\nextended\\ntimeframe\\nmust\\nnot\\nbe\\nconsidered\\nas\\nweekend\\nwork\\nfor\\nthe\\nteam.\\nPhase\\n2\\x00\\nDeployment/Implementation\\nWeek\\n1\\n-\\n2\\nTasks\\n1\\n-\\n3\\n●\\nDeplo yment\\nof\\nan\\nenvironment\\nmirroring\\nthe\\nproduction\\nto\\nensur e\\nfully\\nintegrat ed\\nworking/pr oductiv e\\nenvironment\\n(including\\nback end-fr ontend),\\ncontinuous\\nroll-out\\nin\\nproduction\\nis\\npossible\\nwithout\\nany\\nmanual\\noperations\\n(environment\\nmust\\nbe\\nprovided\\nby\\nthe\\ncustomer\\naccor ding\\nto\\nthe\\nagreed\\nspecs\\nby\\nKyanon/EBOOST\\x00.\\n\\x00P2_W1 _T1\\x00\\n●\\nRecommend,\\nset-up\\nand\\nagree\\nwith\\nEBOOST\\na\\ntransition\\nplan\\nfrom\\n‘newʼ\\nmirroring\\nsystem\\nto\\nproductiv e\\n(or\\nhando ver\\ncurrent\\nproductiv e\\nproperly\\nto\\nin-\\nhouse\\nteam),\\nso\\nthat\\nthe\\n‘productiv eʼ\\nenvironment\\ncan\\nbe\\nfully\\nrun\\nand\\nmaintained\\nby\\nEBOOST\\nin-house\\nteam.\\n\\x00P2_W1|2_ T2\\x00\\n●\\nImplement\\nthe\\ntransition\\n(or\\nensur e\\nthe\\nproductiv e\\nsystem\\nis\\nfully\\nrun\\nin\\nhands\\nof\\nEBOOST\\nfollowing\\ndocumentation\\nphase\\n1\\x00.\\n\\x00P2_W2_ T3\\x00\\n10\\n', 'page': 9.0}, page_content='Timeline\\nTasks\\nmarked\\nin\\ngreen\\nindicate\\na\\nwork\\nperiod\\nfrom\\nFriday\\nto\\nMonday.\\nHowever,\\nplease\\nnote\\nthat\\nthis\\nextended\\ntimeframe\\nmust\\nnot\\nbe\\nconsidered\\nas\\nweekend\\nwork\\nfor\\nthe\\nteam.\\nPhase\\n2\\x00\\nDeployment/Implementation\\nWeek\\n1\\n-\\n2\\nTasks\\n1\\n-\\n3\\n●\\nDeplo yment\\nof\\nan\\nenvironment\\nmirroring\\nthe\\nproduction\\nto\\nensur e\\nfully\\nintegrat ed\\nworking/pr oductiv e\\nenvironment\\n(including\\nback end-fr ontend),\\ncontinuous\\nroll-out\\nin\\nproduction\\nis\\npossible\\nwithout\\nany\\nmanual\\noperations\\n(environment\\nmust\\nbe\\nprovided\\nby\\nthe\\ncustomer\\naccor ding\\nto\\nthe\\nagreed\\nspecs\\nby\\nKyanon/EBOOST\\x00.\\n\\x00P2_W1 _T1\\x00\\n●\\nRecommend,\\nset-up\\nand\\nagree\\nwith\\nEBOOST\\na\\ntransition\\nplan\\nfrom\\n‘newʼ\\nmirroring\\nsystem\\nto\\nproductiv e\\n(or\\nhando ver\\ncurrent\\nproductiv e\\nproperly\\nto\\nin-\\nhouse\\nteam),\\nso\\nthat\\nthe\\n‘productiv eʼ\\nenvironment\\ncan\\nbe\\nfully\\nrun\\nand\\nmaintained\\nby\\nEBOOST\\nin-house\\nteam.\\n\\x00P2_W1|2_ T2\\x00\\n●\\nImplement\\nthe\\ntransition\\n(or\\nensur e\\nthe\\nproductiv e\\nsystem\\nis\\nfully\\nrun\\nin\\nhands\\nof\\nEBOOST\\nfollowing\\ndocumentation\\nphase\\n1\\x00.\\n\\x00P2_W2_ T3\\x00\\n10\\n'),\n",
       " Document(metadata={'source': 'Introduction\\n5\\nConstraints\\n5\\nRisk\\nManagement\\nPlan\\n5\\nInter-Team\\nDependencies\\n6\\nDescription\\n6\\nImpact\\n6\\nMitigation\\n6\\nKnowledge\\nGap\\nBridging\\n6\\nDescription\\n6\\nImpact\\n6\\nMitigation\\n6\\nCollaborative\\nConfidence\\nBuilding\\n7\\nDescription\\n7\\nImpact\\n7\\nMitigation\\n7\\nUnforeseen\\nExternal\\nDelays\\n7\\nDescription\\n7\\nImpact\\n7\\nMitigation\\n7\\nEffective\\nCommunication\\nManagement\\n8\\nDescription\\n8\\nImpact\\n8\\nMitigation\\n8\\nProject\\nGoal\\n8\\nPhase\\n1:\\nSystem\\nDocumentation\\n8\\nWeek\\n1\\n-\\n2\\n8\\nTasks\\n01\\n-\\n05\\n8\\nWeek\\n3\\n-\\n4\\n9\\nTasks\\n06\\n-\\n10\\n9\\nTimeline\\n9\\nPhase\\n2:\\nDeployment/Implementation\\n10\\nWeek\\n1\\n-\\n2\\n10\\nTasks\\n1\\n-\\n3\\n10\\nWeek\\n3\\n-\\n4\\n10\\nTasks\\n4\\n-\\n5\\n10\\nWeek\\n5\\n11\\nTask\\n6\\n11\\n2\\n', 'page': 1.0}, page_content='Introduction\\n5\\nConstraints\\n5\\nRisk\\nManagement\\nPlan\\n5\\nInter-Team\\nDependencies\\n6\\nDescription\\n6\\nImpact\\n6\\nMitigation\\n6\\nKnowledge\\nGap\\nBridging\\n6\\nDescription\\n6\\nImpact\\n6\\nMitigation\\n6\\nCollaborative\\nConfidence\\nBuilding\\n7\\nDescription\\n7\\nImpact\\n7\\nMitigation\\n7\\nUnforeseen\\nExternal\\nDelays\\n7\\nDescription\\n7\\nImpact\\n7\\nMitigation\\n7\\nEffective\\nCommunication\\nManagement\\n8\\nDescription\\n8\\nImpact\\n8\\nMitigation\\n8\\nProject\\nGoal\\n8\\nPhase\\n1:\\nSystem\\nDocumentation\\n8\\nWeek\\n1\\n-\\n2\\n8\\nTasks\\n01\\n-\\n05\\n8\\nWeek\\n3\\n-\\n4\\n9\\nTasks\\n06\\n-\\n10\\n9\\nTimeline\\n9\\nPhase\\n2:\\nDeployment/Implementation\\n10\\nWeek\\n1\\n-\\n2\\n10\\nTasks\\n1\\n-\\n3\\n10\\nWeek\\n3\\n-\\n4\\n10\\nTasks\\n4\\n-\\n5\\n10\\nWeek\\n5\\n11\\nTask\\n6\\n11\\n2\\n'),\n",
       " Document(metadata={'source': 'EBOOST\\n-\\nProject\\nDragon\\nSystem\\nDocumentation\\nTimeline\\nVersion\\n0.3\\nV i e t n a m\\nO f f i c e\\n0 1\\nS i n g a p o r e\\nO f f i c e\\nC o n t a c t\\n294\\n–\\n296\\nTruong\\nSa,\\nWard\\n02,\\n7\\nStraits\\nView,\\nMarina\\nOne\\nEast\\nTower,\\nWeb:\\nhttps://kyanon.digital\\nPhu\\nNhuan\\nDistrict,\\nHCMC\\n#05\\x0001,\\nSingapore\\n018936\\nEmail:\\ncontact@kyanon.digital\\nV i e t n a m\\nO f f i c e\\n0 2\\nPhone:\\n\\x00\\x0084\\x00\\n283\\n5171\\n080\\n09\\nHoa\\nCau,\\nWard\\n07,\\nPhu\\nNhuan\\nDistrict,\\nHCMC\\n1\\n', 'page': 0.0}, page_content='EBOOST\\n-\\nProject\\nDragon\\nSystem\\nDocumentation\\nTimeline\\nVersion\\n0.3\\nV i e t n a m\\nO f f i c e\\n0 1\\nS i n g a p o r e\\nO f f i c e\\nC o n t a c t\\n294\\n–\\n296\\nTruong\\nSa,\\nWard\\n02,\\n7\\nStraits\\nView,\\nMarina\\nOne\\nEast\\nTower,\\nWeb:\\nhttps://kyanon.digital\\nPhu\\nNhuan\\nDistrict,\\nHCMC\\n#05\\x0001,\\nSingapore\\n018936\\nEmail:\\ncontact@kyanon.digital\\nV i e t n a m\\nO f f i c e\\n0 2\\nPhone:\\n\\x00\\x0084\\x00\\n283\\n5171\\n080\\n09\\nHoa\\nCau,\\nWard\\n07,\\nPhu\\nNhuan\\nDistrict,\\nHCMC\\n1\\n'),\n",
       " Document(metadata={'source': \"●\\nIntegration\\nLandscape\\n●\\nCI/CD\\nPipeline\\nLandscape\\n●\\nDeplo yment\\nLandscape\\n(not\\nsure)\\nDocuments\\n●\\nTechnology\\nStack\\n●\\nSyst em\\nspecs,\\ndependencies,\\nand\\nversions\\n●\\nCloud\\nand\\nHardwar e\\nspecifications\\nand\\nusage\\n●\\nManual\\nprocesses\\nlisting\\nand\\ndependencies\\n●\\nIntegration\\nwith\\n3rd\\nparty\\nservices\\n●\\nCode\\nQuality\\nChar ts/Repor ts\\n●\\nDatabase\\nQuality\\nChar ts/Repor ts\\n(not\\nsure)\\n●\\nCI/CD\\nPipeline\\nReview\\nand\\nRecommendations\\n●\\nDeplo yment\\nReview\\nand\\nRecommendations\\nExpected\\nDeliverables\\n\\x00Phase\\n2\\x00\\nTBD.\\nTime\\nand\\nResource\\nAllocation\\n●\\nIdeally ,\\neach\\n15\\nman\\ndays\\nphase\\nshould\\nspan\\na\\n5-week\\nperiod\\nto\\naccommodat e\\nthe\\ntime\\nrequir ed\\nfor\\nthe\\nclient's\\nteam\\nto\\nreview\\nthe\\ndeliv erables\\non\\na\\nweekly\\nbasis.\\n●\\nOur\\nteam's\\ncapabilities\\nare\\nnot\\nsolely\\ndedicat ed\\nto\\nthis\\nproject,\\nand\\nresour ce\\nallocation\\nmay\\nbe\\nshared\\namong\\nmultiple\\nproject s\\nor\\ntasks.\\nThis\\nconstraint\\nshould\\nbe\\nconsider ed\\nwhen\\nplanning\\nand\\nscheduling\\nproject\\nactivities.\\n12\\n\", 'page': 11.0}, page_content=\"●\\nIntegration\\nLandscape\\n●\\nCI/CD\\nPipeline\\nLandscape\\n●\\nDeplo yment\\nLandscape\\n(not\\nsure)\\nDocuments\\n●\\nTechnology\\nStack\\n●\\nSyst em\\nspecs,\\ndependencies,\\nand\\nversions\\n●\\nCloud\\nand\\nHardwar e\\nspecifications\\nand\\nusage\\n●\\nManual\\nprocesses\\nlisting\\nand\\ndependencies\\n●\\nIntegration\\nwith\\n3rd\\nparty\\nservices\\n●\\nCode\\nQuality\\nChar ts/Repor ts\\n●\\nDatabase\\nQuality\\nChar ts/Repor ts\\n(not\\nsure)\\n●\\nCI/CD\\nPipeline\\nReview\\nand\\nRecommendations\\n●\\nDeplo yment\\nReview\\nand\\nRecommendations\\nExpected\\nDeliverables\\n\\x00Phase\\n2\\x00\\nTBD.\\nTime\\nand\\nResource\\nAllocation\\n●\\nIdeally ,\\neach\\n15\\nman\\ndays\\nphase\\nshould\\nspan\\na\\n5-week\\nperiod\\nto\\naccommodat e\\nthe\\ntime\\nrequir ed\\nfor\\nthe\\nclient's\\nteam\\nto\\nreview\\nthe\\ndeliv erables\\non\\na\\nweekly\\nbasis.\\n●\\nOur\\nteam's\\ncapabilities\\nare\\nnot\\nsolely\\ndedicat ed\\nto\\nthis\\nproject,\\nand\\nresour ce\\nallocation\\nmay\\nbe\\nshared\\namong\\nmultiple\\nproject s\\nor\\ntasks.\\nThis\\nconstraint\\nshould\\nbe\\nconsider ed\\nwhen\\nplanning\\nand\\nscheduling\\nproject\\nactivities.\\n12\\n\"),\n",
       " Document(metadata={'source': 'Week\\n3\\n-\\n4\\nTasks\\n4\\n-\\n5\\n●\\nImplementation\\nof\\nContinuous\\nIntegration\\nand\\nContinuous\\nDeplo yment\\n\\x00CI/CD\\x00\\npipeline\\nfor\\nseamless\\ncode\\nintegration\\nand\\ndeplo yment\\n(at\\nleast\\ntest\\nthe\\nprocess\\nwith\\nin-house\\nteam\\n3\\nfeatur es).\\n\\x00P2_W3_ T4\\x00\\n●\\nDevOps\\nadvisor y\\nto\\nstreamline\\ndevelopment,\\ntesting,\\nand\\ndeplo yment\\nworkflo ws.\\n\\x00P2_W 4_T5\\x00\\nWeek\\n5\\nTask\\n6\\n●\\nExploration\\nof\\nauto-scaling\\nand\\nrollback\\nmechanisms\\nto\\nensur e\\nsystem\\nreliability\\nand\\navailability .\\n\\x00P2_W5_ T6\\x00\\nTimeline\\nExpected\\nDeliverables\\n\\x00Phase\\n1\\x00\\nC4\\nModels\\n●\\nHigh\\nLevel\\nSolution\\nArchitectur e\\n●\\nLogical\\nArchitectur e\\n●\\nApplication\\nLandscape\\n●\\nPhysical\\nLandscape\\n11\\n', 'page': 10.0}, page_content='Week\\n3\\n-\\n4\\nTasks\\n4\\n-\\n5\\n●\\nImplementation\\nof\\nContinuous\\nIntegration\\nand\\nContinuous\\nDeplo yment\\n\\x00CI/CD\\x00\\npipeline\\nfor\\nseamless\\ncode\\nintegration\\nand\\ndeplo yment\\n(at\\nleast\\ntest\\nthe\\nprocess\\nwith\\nin-house\\nteam\\n3\\nfeatur es).\\n\\x00P2_W3_ T4\\x00\\n●\\nDevOps\\nadvisor y\\nto\\nstreamline\\ndevelopment,\\ntesting,\\nand\\ndeplo yment\\nworkflo ws.\\n\\x00P2_W 4_T5\\x00\\nWeek\\n5\\nTask\\n6\\n●\\nExploration\\nof\\nauto-scaling\\nand\\nrollback\\nmechanisms\\nto\\nensur e\\nsystem\\nreliability\\nand\\navailability .\\n\\x00P2_W5_ T6\\x00\\nTimeline\\nExpected\\nDeliverables\\n\\x00Phase\\n1\\x00\\nC4\\nModels\\n●\\nHigh\\nLevel\\nSolution\\nArchitectur e\\n●\\nLogical\\nArchitectur e\\n●\\nApplication\\nLandscape\\n●\\nPhysical\\nLandscape\\n11\\n'),\n",
       " Document(metadata={'source': \"Introduction\\nThis\\ndocument\\ndelineat es\\na\\ncompr ehensiv e\\ninitiativ e\\naimed\\nat\\ndocumenting\\nthe\\nsystem\\narchitectur e\\nand\\nimplementing\\ndeplo yment\\nstrat egies\\nto\\nimpr ove\\nscalability\\nand\\nefficienc y\\nfor\\nthe\\nEBOOST\\nDragon\\nProject.\\nIt\\nis\\ndivided\\ninto\\ntwo\\ndistinct\\nphases:\\n●\\nSyst em\\nDocumentation\\n●\\nDeplo yment/Implementation\\nConstraints\\n●\\nA\\nkickoff\\nmeeting\\nwith\\nthe\\nclient\\nmust\\nbe\\nscheduled\\nprior\\nto\\nstarting\\nthe\\nproject\\nto\\ndefine\\ncontact\\npoint s\\nand\\nestablish\\nproject\\nscope.\\n●\\nAccess\\nto\\nessential\\ntools\\nand\\nplatf orms\\nsuch\\nas\\nGit,\\nCI/CD ,\\nand\\nGCP\\nmust\\nbe\\ngrant ed\\nbefore\\nPhase\\n1\\nbegins.\\n●\\nAll\\nrelevant\\ndocumentation,\\nincluding\\nupdat es\\nfrom\\nthe\\nclient,\\nmust\\nbe\\nprovided\\nbefore\\nPhase\\n1\\nstarts\\nto\\nassist\\nwith\\nreference\\nand\\nintegration\\ninto\\nthe\\nproject.\\n●\\nAvailability\\nof\\nproject\\nteam\\nmembers\\nand\\nrequir ed\\nresour ces\\nmust\\nbe\\nensur ed\\naccor ding\\nto\\nthe\\nagreed\\ntimeline.\\n●\\nKey\\nstakeholders\\nmust\\nbe\\naccessible\\nfor\\nmeetings,\\nreviews,\\nand\\ndecision-making\\nprocesses\\nthroughout\\nthe\\nproject's\\nlifecycle.\\nRisk\\nManagement\\nPlan\\nThis\\nsection\\noutlines\\npotential\\nrisks\\nassociat ed\\nwith\\nthe\\nproject\\nand\\nproposes\\nmitigation\\nstrat egies\\nto\\nensur e\\nsuccessful\\ncompletion.\\n5\\n\", 'page': 4.0}, page_content=\"Introduction\\nThis\\ndocument\\ndelineat es\\na\\ncompr ehensiv e\\ninitiativ e\\naimed\\nat\\ndocumenting\\nthe\\nsystem\\narchitectur e\\nand\\nimplementing\\ndeplo yment\\nstrat egies\\nto\\nimpr ove\\nscalability\\nand\\nefficienc y\\nfor\\nthe\\nEBOOST\\nDragon\\nProject.\\nIt\\nis\\ndivided\\ninto\\ntwo\\ndistinct\\nphases:\\n●\\nSyst em\\nDocumentation\\n●\\nDeplo yment/Implementation\\nConstraints\\n●\\nA\\nkickoff\\nmeeting\\nwith\\nthe\\nclient\\nmust\\nbe\\nscheduled\\nprior\\nto\\nstarting\\nthe\\nproject\\nto\\ndefine\\ncontact\\npoint s\\nand\\nestablish\\nproject\\nscope.\\n●\\nAccess\\nto\\nessential\\ntools\\nand\\nplatf orms\\nsuch\\nas\\nGit,\\nCI/CD ,\\nand\\nGCP\\nmust\\nbe\\ngrant ed\\nbefore\\nPhase\\n1\\nbegins.\\n●\\nAll\\nrelevant\\ndocumentation,\\nincluding\\nupdat es\\nfrom\\nthe\\nclient,\\nmust\\nbe\\nprovided\\nbefore\\nPhase\\n1\\nstarts\\nto\\nassist\\nwith\\nreference\\nand\\nintegration\\ninto\\nthe\\nproject.\\n●\\nAvailability\\nof\\nproject\\nteam\\nmembers\\nand\\nrequir ed\\nresour ces\\nmust\\nbe\\nensur ed\\naccor ding\\nto\\nthe\\nagreed\\ntimeline.\\n●\\nKey\\nstakeholders\\nmust\\nbe\\naccessible\\nfor\\nmeetings,\\nreviews,\\nand\\ndecision-making\\nprocesses\\nthroughout\\nthe\\nproject's\\nlifecycle.\\nRisk\\nManagement\\nPlan\\nThis\\nsection\\noutlines\\npotential\\nrisks\\nassociat ed\\nwith\\nthe\\nproject\\nand\\nproposes\\nmitigation\\nstrat egies\\nto\\nensur e\\nsuccessful\\ncompletion.\\n5\\n\"),\n",
       " Document(metadata={'source': 'A\\nDocument\\nAppr oval\\nBaseline\\nVersion\\nApproved\\nDate\\nReviewer\\nApprover\\nDocument\\nRevision\\nHistory\\nVersion\\nDate\\nAuthor\\nChange\\nDescription\\n0.1\\n08/03/2024\\nRossano\\nSzczepanski\\nFirst\\nversion\\n0.2\\n14/03/2024\\nRossano\\nSzczepanski\\nRisk\\nmanagement\\nplan\\n0.3\\n14/03/2024\\nRossano\\nSzczepanski\\nPhase\\n1\\nTimeline\\nhas\\nupdated\\nas\\nrequested\\n0.4\\n15/03/2024\\nRossano\\nSzczepanski\\nUpdated\\nProject\\nGoals\\ntexting\\n4\\n', 'page': 3.0}, page_content='A\\nDocument\\nAppr oval\\nBaseline\\nVersion\\nApproved\\nDate\\nReviewer\\nApprover\\nDocument\\nRevision\\nHistory\\nVersion\\nDate\\nAuthor\\nChange\\nDescription\\n0.1\\n08/03/2024\\nRossano\\nSzczepanski\\nFirst\\nversion\\n0.2\\n14/03/2024\\nRossano\\nSzczepanski\\nRisk\\nmanagement\\nplan\\n0.3\\n14/03/2024\\nRossano\\nSzczepanski\\nPhase\\n1\\nTimeline\\nhas\\nupdated\\nas\\nrequested\\n0.4\\n15/03/2024\\nRossano\\nSzczepanski\\nUpdated\\nProject\\nGoals\\ntexting\\n4\\n')]"
      ]
     },
     "execution_count": 13,
     "metadata": {},
     "output_type": "execute_result"
    }
   ],
   "source": [
    "from langchain.schema import Document\n",
    "tenant_docs = []\n",
    "for ob in response.objects:\n",
    "    text = ob.properties['text']\n",
    "    metadata = {\n",
    "        'source': ob.properties['text'],\n",
    "        'page': ob.properties['page']\n",
    "    }\n",
    "    doc = Document(\n",
    "        metadata = metadata,\n",
    "        page_content = text,\n",
    "    )\n",
    "    tenant_docs.append(doc)\n",
    "tenant_docs"
   ]
  },
  {
   "cell_type": "code",
   "execution_count": 12,
   "metadata": {},
   "outputs": [
    {
     "data": {
      "text/plain": [
       "[('id', None),\n",
       " ('metadata',\n",
       "  {'source': 'Inter-Team\\nDependencies\\nDescription\\nThe\\nproject\\ndepends\\non\\ntimely\\nresponses\\nfrom\\nthe\\nEBOOST\\nteam.\\nDela ys\\non\\ntheir\\nend\\nwill\\nimpact\\noverall\\nproject\\ntimelines.\\nImpact\\nExtended\\ntimelines.\\nMitigation\\nEstablish\\nclear\\ncommunication\\nprotocols\\nwith\\nthe\\nEBOOST\\nteam,\\noutlining\\nexpect ed\\nresponse\\ntimes\\nand\\ndeliv ery\\ndeadlines.\\nKnowledge\\nGap\\nBridging\\nDescription\\nLimit ed\\nunderstanding\\nof\\nsoftwar e\\nengineering\\nprinciples\\nby\\nthe\\nEBOOST\\nteam\\ncould\\nlead\\nto\\nmisint erpretations\\nof\\nthe\\ninformation\\nprovided\\nto\\nus.\\nImpact\\nMiscommunication,\\nerrors\\nin\\nthe\\nprovided\\ninformation,\\nand\\npotential\\nrework\\non\\nproject\\ndeliv erables.\\nMitigation\\nProvide\\nclear\\nand\\ndetailed\\ninformation.\\nConduct\\nregular\\ncheck -ins\\nand\\nreviews\\nto\\nensur e\\nalignment.\\n6\\n',\n",
       "   'page': 5.0}),\n",
       " ('page_content',\n",
       "  'Inter-Team\\nDependencies\\nDescription\\nThe\\nproject\\ndepends\\non\\ntimely\\nresponses\\nfrom\\nthe\\nEBOOST\\nteam.\\nDela ys\\non\\ntheir\\nend\\nwill\\nimpact\\noverall\\nproject\\ntimelines.\\nImpact\\nExtended\\ntimelines.\\nMitigation\\nEstablish\\nclear\\ncommunication\\nprotocols\\nwith\\nthe\\nEBOOST\\nteam,\\noutlining\\nexpect ed\\nresponse\\ntimes\\nand\\ndeliv ery\\ndeadlines.\\nKnowledge\\nGap\\nBridging\\nDescription\\nLimit ed\\nunderstanding\\nof\\nsoftwar e\\nengineering\\nprinciples\\nby\\nthe\\nEBOOST\\nteam\\ncould\\nlead\\nto\\nmisint erpretations\\nof\\nthe\\ninformation\\nprovided\\nto\\nus.\\nImpact\\nMiscommunication,\\nerrors\\nin\\nthe\\nprovided\\ninformation,\\nand\\npotential\\nrework\\non\\nproject\\ndeliv erables.\\nMitigation\\nProvide\\nclear\\nand\\ndetailed\\ninformation.\\nConduct\\nregular\\ncheck -ins\\nand\\nreviews\\nto\\nensur e\\nalignment.\\n6\\n'),\n",
       " ('type', 'Document'),\n",
       " ('id', None),\n",
       " ('metadata',\n",
       "  {'source': 'Phase\\n1\\x00\\nSystem\\nDocumentation\\nWeek\\n1\\n-\\n2\\nTasks\\n01\\n-\\n05\\n●\\nMeasur ement\\nof\\nresour ce\\nusage\\nby\\ntype\\nof\\nservice\\ndeplo yed\\nin\\nthe\\ncloud.\\n\\x00P1_W1_T01\\x00\\n●\\nDetailed\\ninsight s\\ninto\\nhardwar e\\nutilization\\nand\\nsystem\\nbeha vior.\\x00P1_W1_T02\\x00\\n●\\nSpecification\\nsheet s\\noutlining\\nkey\\nsystem\\nspecs,\\ndependencies,\\nand\\nversions.\\n\\x00P1_W1|2_ T03\\x00\\n●\\nIntegration\\nwith\\nthird-par ty\\nplatf orms.\\n\\x00P1_W2_ T04\\x00\\n●\\nDocumentation\\nof\\nmanual\\nprocesses\\nand\\noperational\\nprocedur es\\nfor\\ntroubleshooting\\nand\\nmaint enance\\n(incl.\\nensuring\\nproper\\nlogging\\nand\\nmonit oring\\nis\\ndefined).\\n\\x00P1_W2_ T05\\x00\\nWeek\\n3\\n-\\n4\\nTasks\\n06\\n-\\n10\\n●\\nUpdat ed\\narchitectur e\\ndiagrams\\ndetailing\\ninfrastructur e\\nand\\nsoftwar e\\ncomponent s.\\n\\x00P1_W3_ T06\\x00\\n●\\nCode\\nquality /metrics\\nchar ts/repor ts,\\nincluding\\nissues\\nby\\nseverity/categor y,\\ncode\\ncoverage\\nby\\nunit\\ntests,\\nand\\nso\\non.\\n\\x00P1_W3_ T07\\x00\\n●\\nDatabase\\nquality /metrics\\nchar ts/repor ts,\\nincluding\\nnormalization,\\nindexing\\nstrat egies,\\nbackup\\npolicies,\\nand\\noverall\\ndatabase\\nperformance.\\n\\x00P1_W3|4_ T08\\x00\\n●\\nRecommendation\\nfor\\nan\\nimpr oved\\ndeplo yment\\narchitectur e\\nand\\nimpact\\non\\nthe\\nsoftwar e\\nto\\nsustain\\nfurther\\nscalability\\nand\\nhigh-a vailability .\\n\\x00P1_W4_T09\\x00\\n●\\nContinuous\\nIntegration/Continuous\\nDeplo yment\\n\\x00CI/CD\\x00\\nreview\\nto\\nensur e\\nautomat ed\\ndeliv ery\\nin\\nUAT\\nand\\nProduction,\\nincluding\\nrollback\\ncapabilities\\nif\\nnecessar y.\\n\\x00P1_W4_T10\\x00\\n9\\n',\n",
       "   'page': 8.0}),\n",
       " ('page_content',\n",
       "  'Phase\\n1\\x00\\nSystem\\nDocumentation\\nWeek\\n1\\n-\\n2\\nTasks\\n01\\n-\\n05\\n●\\nMeasur ement\\nof\\nresour ce\\nusage\\nby\\ntype\\nof\\nservice\\ndeplo yed\\nin\\nthe\\ncloud.\\n\\x00P1_W1_T01\\x00\\n●\\nDetailed\\ninsight s\\ninto\\nhardwar e\\nutilization\\nand\\nsystem\\nbeha vior.\\x00P1_W1_T02\\x00\\n●\\nSpecification\\nsheet s\\noutlining\\nkey\\nsystem\\nspecs,\\ndependencies,\\nand\\nversions.\\n\\x00P1_W1|2_ T03\\x00\\n●\\nIntegration\\nwith\\nthird-par ty\\nplatf orms.\\n\\x00P1_W2_ T04\\x00\\n●\\nDocumentation\\nof\\nmanual\\nprocesses\\nand\\noperational\\nprocedur es\\nfor\\ntroubleshooting\\nand\\nmaint enance\\n(incl.\\nensuring\\nproper\\nlogging\\nand\\nmonit oring\\nis\\ndefined).\\n\\x00P1_W2_ T05\\x00\\nWeek\\n3\\n-\\n4\\nTasks\\n06\\n-\\n10\\n●\\nUpdat ed\\narchitectur e\\ndiagrams\\ndetailing\\ninfrastructur e\\nand\\nsoftwar e\\ncomponent s.\\n\\x00P1_W3_ T06\\x00\\n●\\nCode\\nquality /metrics\\nchar ts/repor ts,\\nincluding\\nissues\\nby\\nseverity/categor y,\\ncode\\ncoverage\\nby\\nunit\\ntests,\\nand\\nso\\non.\\n\\x00P1_W3_ T07\\x00\\n●\\nDatabase\\nquality /metrics\\nchar ts/repor ts,\\nincluding\\nnormalization,\\nindexing\\nstrat egies,\\nbackup\\npolicies,\\nand\\noverall\\ndatabase\\nperformance.\\n\\x00P1_W3|4_ T08\\x00\\n●\\nRecommendation\\nfor\\nan\\nimpr oved\\ndeplo yment\\narchitectur e\\nand\\nimpact\\non\\nthe\\nsoftwar e\\nto\\nsustain\\nfurther\\nscalability\\nand\\nhigh-a vailability .\\n\\x00P1_W4_T09\\x00\\n●\\nContinuous\\nIntegration/Continuous\\nDeplo yment\\n\\x00CI/CD\\x00\\nreview\\nto\\nensur e\\nautomat ed\\ndeliv ery\\nin\\nUAT\\nand\\nProduction,\\nincluding\\nrollback\\ncapabilities\\nif\\nnecessar y.\\n\\x00P1_W4_T10\\x00\\n9\\n'),\n",
       " ('type', 'Document'),\n",
       " ('id', None),\n",
       " ('metadata',\n",
       "  {'source': 'Timeline\\n11\\nExpected\\nDeliverables\\n(Phase\\n1)\\n11\\nC4\\nModels\\n11\\nDocuments\\n11\\nExpected\\nDeliverables\\n(Phase\\n2)\\n12\\nTime\\nand\\nResource\\nAllocation\\n12\\nSummary\\n12\\n3\\n',\n",
       "   'page': 2.0}),\n",
       " ('page_content',\n",
       "  'Timeline\\n11\\nExpected\\nDeliverables\\n(Phase\\n1)\\n11\\nC4\\nModels\\n11\\nDocuments\\n11\\nExpected\\nDeliverables\\n(Phase\\n2)\\n12\\nTime\\nand\\nResource\\nAllocation\\n12\\nSummary\\n12\\n3\\n'),\n",
       " ('type', 'Document'),\n",
       " ('id', None),\n",
       " ('metadata',\n",
       "  {'source': 'Effective\\nCommunication\\nManagement\\nDescription\\nMiscommunication\\nor\\nlack\\nof\\nclarity\\nbetw een\\nstakeholders\\ncould\\nlead\\nto\\nmisunderstandings\\nand\\nmisaligned\\nexpectations.\\nImpact\\nDela yed\\ndecision-making,\\nrework,\\nand\\ncompr omised\\nproject\\noutcomes.\\nMitigation\\nEstablish\\nclear\\ncommunication\\nchannels\\nwith\\ndefined\\nroles\\nand\\nresponsibilities.\\nDocument\\nkey\\ndecisions\\nand\\nagreement s\\nfor\\nreference.\\nConduct\\nregular\\nprogress\\nreviews\\nand\\nstatus\\nupdat es\\nto\\nmaintain\\ntranspar ency\\nand\\nmanage\\nexpectations.\\nProject\\nGoals\\n●\\nSet\\nup\\nand\\noperat e\\nthe\\ncurrent\\ntesting\\nsystem\\nalongside\\nthe\\nexisting\\nproduction\\nsystem,\\nor\\nensur e\\nclear\\ninstructions\\nfor\\noperating\\nthe\\nproduction\\nsystem.\\n●\\nTransition\\nthis\\nsetup\\nto\\nthe\\nproduction\\nenvironment\\nsmoot hly,\\nensuring\\nit\\nruns\\nwithout\\nissues.\\n●\\nImplement\\na\\nprocess\\nfor\\nContinuous\\nIntegration/Continuous\\nDeplo yment\\n\\x00CI/CD\\x00.\\n●\\nDocument\\nthe\\nnew\\nsetup\\nand\\nprocesses\\nthoroughly ,\\nincluding\\ndetailed\\nspecifications.\\n8\\n',\n",
       "   'page': 7.0}),\n",
       " ('page_content',\n",
       "  'Effective\\nCommunication\\nManagement\\nDescription\\nMiscommunication\\nor\\nlack\\nof\\nclarity\\nbetw een\\nstakeholders\\ncould\\nlead\\nto\\nmisunderstandings\\nand\\nmisaligned\\nexpectations.\\nImpact\\nDela yed\\ndecision-making,\\nrework,\\nand\\ncompr omised\\nproject\\noutcomes.\\nMitigation\\nEstablish\\nclear\\ncommunication\\nchannels\\nwith\\ndefined\\nroles\\nand\\nresponsibilities.\\nDocument\\nkey\\ndecisions\\nand\\nagreement s\\nfor\\nreference.\\nConduct\\nregular\\nprogress\\nreviews\\nand\\nstatus\\nupdat es\\nto\\nmaintain\\ntranspar ency\\nand\\nmanage\\nexpectations.\\nProject\\nGoals\\n●\\nSet\\nup\\nand\\noperat e\\nthe\\ncurrent\\ntesting\\nsystem\\nalongside\\nthe\\nexisting\\nproduction\\nsystem,\\nor\\nensur e\\nclear\\ninstructions\\nfor\\noperating\\nthe\\nproduction\\nsystem.\\n●\\nTransition\\nthis\\nsetup\\nto\\nthe\\nproduction\\nenvironment\\nsmoot hly,\\nensuring\\nit\\nruns\\nwithout\\nissues.\\n●\\nImplement\\na\\nprocess\\nfor\\nContinuous\\nIntegration/Continuous\\nDeplo yment\\n\\x00CI/CD\\x00.\\n●\\nDocument\\nthe\\nnew\\nsetup\\nand\\nprocesses\\nthoroughly ,\\nincluding\\ndetailed\\nspecifications.\\n8\\n'),\n",
       " ('type', 'Document'),\n",
       " ('id', None),\n",
       " ('metadata',\n",
       "  {'source': \"Summary\\nThe\\nEBOOST\\nDragon\\nProject's\\nSyst em\\nDocumentation\\nTimeline\\ndelineat es\\na\\ntwo-phase\\ninitiativ e\\naimed\\nat\\nenhancing\\nsystem\\nunderstanding,\\nscalability\\nand\\nefficienc y.\\nPhase\\n1\\nfocuses\\non\\ndocumenting\\nsystem\\narchitectur e\\nand\\nprocesses,\\nwhile\\nPhase\\n2\\nemphasiz es\\ndeplo yment\\nand\\nimplementation\\nstrat egies.\\nDeliv erables\\ninclude\\nupdat ed\\narchitectur e\\ndiagrams,\\ncode\\nquality\\nrepor ts,\\nand\\ndeplo yment\\nrecommendations.\\nResour ce\\nallocation\\nconstraint s\\nand\\nclient\\ncollaboration\\nare\\nkey\\nconsiderations\\nthroughout\\nthe\\nproject.\\nFurther\\nclarification\\nis\\nneeded\\nfor\\nPhase\\n2\\ndeliv erables,\\nbut\\nthe\\ndocument\\nprovides\\na\\nstructur ed\\nframe work\\nfor\\nsuccessful\\nproject\\nexecution.\\n13\\n\",\n",
       "   'page': 12.0}),\n",
       " ('page_content',\n",
       "  \"Summary\\nThe\\nEBOOST\\nDragon\\nProject's\\nSyst em\\nDocumentation\\nTimeline\\ndelineat es\\na\\ntwo-phase\\ninitiativ e\\naimed\\nat\\nenhancing\\nsystem\\nunderstanding,\\nscalability\\nand\\nefficienc y.\\nPhase\\n1\\nfocuses\\non\\ndocumenting\\nsystem\\narchitectur e\\nand\\nprocesses,\\nwhile\\nPhase\\n2\\nemphasiz es\\ndeplo yment\\nand\\nimplementation\\nstrat egies.\\nDeliv erables\\ninclude\\nupdat ed\\narchitectur e\\ndiagrams,\\ncode\\nquality\\nrepor ts,\\nand\\ndeplo yment\\nrecommendations.\\nResour ce\\nallocation\\nconstraint s\\nand\\nclient\\ncollaboration\\nare\\nkey\\nconsiderations\\nthroughout\\nthe\\nproject.\\nFurther\\nclarification\\nis\\nneeded\\nfor\\nPhase\\n2\\ndeliv erables,\\nbut\\nthe\\ndocument\\nprovides\\na\\nstructur ed\\nframe work\\nfor\\nsuccessful\\nproject\\nexecution.\\n13\\n\"),\n",
       " ('type', 'Document'),\n",
       " ('id', None),\n",
       " ('metadata',\n",
       "  {'source': 'Collaborative\\nConfidence\\nBuilding\\nDescription\\nWhile\\nwe\\naim\\nto\\ninstill\\nconfidence\\nin\\nthe\\nEBOOST\\nteam,\\ntheir\\nexisting\\nskill\\nsets\\nmight\\nlimit\\ntheir\\nability\\nto\\nfully\\nembrace\\nproject\\ngoals.\\nImpact\\nReduced\\nefficienc y,\\nresistance\\nto\\nproposed\\nsolutions,\\nand\\npotential\\npushback\\non\\nproject\\nchanges.\\nMitigation\\nFocus\\non\\nproviding\\nvalue-added\\nservices\\nand\\nguidance\\nbut\\nwithout\\nassuming\\nresponsibility\\nfor\\ntraining.\\nClearly\\ndefine\\nroles\\nand\\nresponsibilities\\nto\\nmanage\\nexpectations\\nand\\nfoster\\ncollaboration.\\nUnforeseen\\nExternal\\nDelays\\nDescription\\nUnforeseen\\ntechnical\\nchallenges\\nor\\nexternal\\ndependencies\\nbeyond\\nour\\ncontr ol\\nwill\\ncause\\nproject\\ndelays.\\nImpact\\nDisruption\\nof\\nproject\\ntimelines,\\nincreased\\nresour ce\\nutilization,\\nand\\npotential\\nconflict s\\nwith\\nclient\\nexpectations.\\nMitigation\\nConduct\\nregular\\nrisk\\nassessment s\\nto\\nproactiv ely\\nidentify\\npotential\\ndelays.\\nImplement\\nagile\\nproject\\nmanagement\\npractices\\nto\\nadapt\\nto\\nchanging\\ncircumstances\\nand\\nminimiz e\\nimpact.\\n7\\n',\n",
       "   'page': 6.0}),\n",
       " ('page_content',\n",
       "  'Collaborative\\nConfidence\\nBuilding\\nDescription\\nWhile\\nwe\\naim\\nto\\ninstill\\nconfidence\\nin\\nthe\\nEBOOST\\nteam,\\ntheir\\nexisting\\nskill\\nsets\\nmight\\nlimit\\ntheir\\nability\\nto\\nfully\\nembrace\\nproject\\ngoals.\\nImpact\\nReduced\\nefficienc y,\\nresistance\\nto\\nproposed\\nsolutions,\\nand\\npotential\\npushback\\non\\nproject\\nchanges.\\nMitigation\\nFocus\\non\\nproviding\\nvalue-added\\nservices\\nand\\nguidance\\nbut\\nwithout\\nassuming\\nresponsibility\\nfor\\ntraining.\\nClearly\\ndefine\\nroles\\nand\\nresponsibilities\\nto\\nmanage\\nexpectations\\nand\\nfoster\\ncollaboration.\\nUnforeseen\\nExternal\\nDelays\\nDescription\\nUnforeseen\\ntechnical\\nchallenges\\nor\\nexternal\\ndependencies\\nbeyond\\nour\\ncontr ol\\nwill\\ncause\\nproject\\ndelays.\\nImpact\\nDisruption\\nof\\nproject\\ntimelines,\\nincreased\\nresour ce\\nutilization,\\nand\\npotential\\nconflict s\\nwith\\nclient\\nexpectations.\\nMitigation\\nConduct\\nregular\\nrisk\\nassessment s\\nto\\nproactiv ely\\nidentify\\npotential\\ndelays.\\nImplement\\nagile\\nproject\\nmanagement\\npractices\\nto\\nadapt\\nto\\nchanging\\ncircumstances\\nand\\nminimiz e\\nimpact.\\n7\\n'),\n",
       " ('type', 'Document'),\n",
       " ('id', None),\n",
       " ('metadata',\n",
       "  {'source': 'Timeline\\nTasks\\nmarked\\nin\\ngreen\\nindicate\\na\\nwork\\nperiod\\nfrom\\nFriday\\nto\\nMonday.\\nHowever,\\nplease\\nnote\\nthat\\nthis\\nextended\\ntimeframe\\nmust\\nnot\\nbe\\nconsidered\\nas\\nweekend\\nwork\\nfor\\nthe\\nteam.\\nPhase\\n2\\x00\\nDeployment/Implementation\\nWeek\\n1\\n-\\n2\\nTasks\\n1\\n-\\n3\\n●\\nDeplo yment\\nof\\nan\\nenvironment\\nmirroring\\nthe\\nproduction\\nto\\nensur e\\nfully\\nintegrat ed\\nworking/pr oductiv e\\nenvironment\\n(including\\nback end-fr ontend),\\ncontinuous\\nroll-out\\nin\\nproduction\\nis\\npossible\\nwithout\\nany\\nmanual\\noperations\\n(environment\\nmust\\nbe\\nprovided\\nby\\nthe\\ncustomer\\naccor ding\\nto\\nthe\\nagreed\\nspecs\\nby\\nKyanon/EBOOST\\x00.\\n\\x00P2_W1 _T1\\x00\\n●\\nRecommend,\\nset-up\\nand\\nagree\\nwith\\nEBOOST\\na\\ntransition\\nplan\\nfrom\\n‘newʼ\\nmirroring\\nsystem\\nto\\nproductiv e\\n(or\\nhando ver\\ncurrent\\nproductiv e\\nproperly\\nto\\nin-\\nhouse\\nteam),\\nso\\nthat\\nthe\\n‘productiv eʼ\\nenvironment\\ncan\\nbe\\nfully\\nrun\\nand\\nmaintained\\nby\\nEBOOST\\nin-house\\nteam.\\n\\x00P2_W1|2_ T2\\x00\\n●\\nImplement\\nthe\\ntransition\\n(or\\nensur e\\nthe\\nproductiv e\\nsystem\\nis\\nfully\\nrun\\nin\\nhands\\nof\\nEBOOST\\nfollowing\\ndocumentation\\nphase\\n1\\x00.\\n\\x00P2_W2_ T3\\x00\\n10\\n',\n",
       "   'page': 9.0}),\n",
       " ('page_content',\n",
       "  'Timeline\\nTasks\\nmarked\\nin\\ngreen\\nindicate\\na\\nwork\\nperiod\\nfrom\\nFriday\\nto\\nMonday.\\nHowever,\\nplease\\nnote\\nthat\\nthis\\nextended\\ntimeframe\\nmust\\nnot\\nbe\\nconsidered\\nas\\nweekend\\nwork\\nfor\\nthe\\nteam.\\nPhase\\n2\\x00\\nDeployment/Implementation\\nWeek\\n1\\n-\\n2\\nTasks\\n1\\n-\\n3\\n●\\nDeplo yment\\nof\\nan\\nenvironment\\nmirroring\\nthe\\nproduction\\nto\\nensur e\\nfully\\nintegrat ed\\nworking/pr oductiv e\\nenvironment\\n(including\\nback end-fr ontend),\\ncontinuous\\nroll-out\\nin\\nproduction\\nis\\npossible\\nwithout\\nany\\nmanual\\noperations\\n(environment\\nmust\\nbe\\nprovided\\nby\\nthe\\ncustomer\\naccor ding\\nto\\nthe\\nagreed\\nspecs\\nby\\nKyanon/EBOOST\\x00.\\n\\x00P2_W1 _T1\\x00\\n●\\nRecommend,\\nset-up\\nand\\nagree\\nwith\\nEBOOST\\na\\ntransition\\nplan\\nfrom\\n‘newʼ\\nmirroring\\nsystem\\nto\\nproductiv e\\n(or\\nhando ver\\ncurrent\\nproductiv e\\nproperly\\nto\\nin-\\nhouse\\nteam),\\nso\\nthat\\nthe\\n‘productiv eʼ\\nenvironment\\ncan\\nbe\\nfully\\nrun\\nand\\nmaintained\\nby\\nEBOOST\\nin-house\\nteam.\\n\\x00P2_W1|2_ T2\\x00\\n●\\nImplement\\nthe\\ntransition\\n(or\\nensur e\\nthe\\nproductiv e\\nsystem\\nis\\nfully\\nrun\\nin\\nhands\\nof\\nEBOOST\\nfollowing\\ndocumentation\\nphase\\n1\\x00.\\n\\x00P2_W2_ T3\\x00\\n10\\n'),\n",
       " ('type', 'Document'),\n",
       " ('id', None),\n",
       " ('metadata',\n",
       "  {'source': 'Introduction\\n5\\nConstraints\\n5\\nRisk\\nManagement\\nPlan\\n5\\nInter-Team\\nDependencies\\n6\\nDescription\\n6\\nImpact\\n6\\nMitigation\\n6\\nKnowledge\\nGap\\nBridging\\n6\\nDescription\\n6\\nImpact\\n6\\nMitigation\\n6\\nCollaborative\\nConfidence\\nBuilding\\n7\\nDescription\\n7\\nImpact\\n7\\nMitigation\\n7\\nUnforeseen\\nExternal\\nDelays\\n7\\nDescription\\n7\\nImpact\\n7\\nMitigation\\n7\\nEffective\\nCommunication\\nManagement\\n8\\nDescription\\n8\\nImpact\\n8\\nMitigation\\n8\\nProject\\nGoal\\n8\\nPhase\\n1:\\nSystem\\nDocumentation\\n8\\nWeek\\n1\\n-\\n2\\n8\\nTasks\\n01\\n-\\n05\\n8\\nWeek\\n3\\n-\\n4\\n9\\nTasks\\n06\\n-\\n10\\n9\\nTimeline\\n9\\nPhase\\n2:\\nDeployment/Implementation\\n10\\nWeek\\n1\\n-\\n2\\n10\\nTasks\\n1\\n-\\n3\\n10\\nWeek\\n3\\n-\\n4\\n10\\nTasks\\n4\\n-\\n5\\n10\\nWeek\\n5\\n11\\nTask\\n6\\n11\\n2\\n',\n",
       "   'page': 1.0}),\n",
       " ('page_content',\n",
       "  'Introduction\\n5\\nConstraints\\n5\\nRisk\\nManagement\\nPlan\\n5\\nInter-Team\\nDependencies\\n6\\nDescription\\n6\\nImpact\\n6\\nMitigation\\n6\\nKnowledge\\nGap\\nBridging\\n6\\nDescription\\n6\\nImpact\\n6\\nMitigation\\n6\\nCollaborative\\nConfidence\\nBuilding\\n7\\nDescription\\n7\\nImpact\\n7\\nMitigation\\n7\\nUnforeseen\\nExternal\\nDelays\\n7\\nDescription\\n7\\nImpact\\n7\\nMitigation\\n7\\nEffective\\nCommunication\\nManagement\\n8\\nDescription\\n8\\nImpact\\n8\\nMitigation\\n8\\nProject\\nGoal\\n8\\nPhase\\n1:\\nSystem\\nDocumentation\\n8\\nWeek\\n1\\n-\\n2\\n8\\nTasks\\n01\\n-\\n05\\n8\\nWeek\\n3\\n-\\n4\\n9\\nTasks\\n06\\n-\\n10\\n9\\nTimeline\\n9\\nPhase\\n2:\\nDeployment/Implementation\\n10\\nWeek\\n1\\n-\\n2\\n10\\nTasks\\n1\\n-\\n3\\n10\\nWeek\\n3\\n-\\n4\\n10\\nTasks\\n4\\n-\\n5\\n10\\nWeek\\n5\\n11\\nTask\\n6\\n11\\n2\\n'),\n",
       " ('type', 'Document'),\n",
       " ('id', None),\n",
       " ('metadata',\n",
       "  {'source': 'EBOOST\\n-\\nProject\\nDragon\\nSystem\\nDocumentation\\nTimeline\\nVersion\\n0.3\\nV i e t n a m\\nO f f i c e\\n0 1\\nS i n g a p o r e\\nO f f i c e\\nC o n t a c t\\n294\\n–\\n296\\nTruong\\nSa,\\nWard\\n02,\\n7\\nStraits\\nView,\\nMarina\\nOne\\nEast\\nTower,\\nWeb:\\nhttps://kyanon.digital\\nPhu\\nNhuan\\nDistrict,\\nHCMC\\n#05\\x0001,\\nSingapore\\n018936\\nEmail:\\ncontact@kyanon.digital\\nV i e t n a m\\nO f f i c e\\n0 2\\nPhone:\\n\\x00\\x0084\\x00\\n283\\n5171\\n080\\n09\\nHoa\\nCau,\\nWard\\n07,\\nPhu\\nNhuan\\nDistrict,\\nHCMC\\n1\\n',\n",
       "   'page': 0.0}),\n",
       " ('page_content',\n",
       "  'EBOOST\\n-\\nProject\\nDragon\\nSystem\\nDocumentation\\nTimeline\\nVersion\\n0.3\\nV i e t n a m\\nO f f i c e\\n0 1\\nS i n g a p o r e\\nO f f i c e\\nC o n t a c t\\n294\\n–\\n296\\nTruong\\nSa,\\nWard\\n02,\\n7\\nStraits\\nView,\\nMarina\\nOne\\nEast\\nTower,\\nWeb:\\nhttps://kyanon.digital\\nPhu\\nNhuan\\nDistrict,\\nHCMC\\n#05\\x0001,\\nSingapore\\n018936\\nEmail:\\ncontact@kyanon.digital\\nV i e t n a m\\nO f f i c e\\n0 2\\nPhone:\\n\\x00\\x0084\\x00\\n283\\n5171\\n080\\n09\\nHoa\\nCau,\\nWard\\n07,\\nPhu\\nNhuan\\nDistrict,\\nHCMC\\n1\\n'),\n",
       " ('type', 'Document'),\n",
       " ('id', None),\n",
       " ('metadata',\n",
       "  {'source': \"●\\nIntegration\\nLandscape\\n●\\nCI/CD\\nPipeline\\nLandscape\\n●\\nDeplo yment\\nLandscape\\n(not\\nsure)\\nDocuments\\n●\\nTechnology\\nStack\\n●\\nSyst em\\nspecs,\\ndependencies,\\nand\\nversions\\n●\\nCloud\\nand\\nHardwar e\\nspecifications\\nand\\nusage\\n●\\nManual\\nprocesses\\nlisting\\nand\\ndependencies\\n●\\nIntegration\\nwith\\n3rd\\nparty\\nservices\\n●\\nCode\\nQuality\\nChar ts/Repor ts\\n●\\nDatabase\\nQuality\\nChar ts/Repor ts\\n(not\\nsure)\\n●\\nCI/CD\\nPipeline\\nReview\\nand\\nRecommendations\\n●\\nDeplo yment\\nReview\\nand\\nRecommendations\\nExpected\\nDeliverables\\n\\x00Phase\\n2\\x00\\nTBD.\\nTime\\nand\\nResource\\nAllocation\\n●\\nIdeally ,\\neach\\n15\\nman\\ndays\\nphase\\nshould\\nspan\\na\\n5-week\\nperiod\\nto\\naccommodat e\\nthe\\ntime\\nrequir ed\\nfor\\nthe\\nclient's\\nteam\\nto\\nreview\\nthe\\ndeliv erables\\non\\na\\nweekly\\nbasis.\\n●\\nOur\\nteam's\\ncapabilities\\nare\\nnot\\nsolely\\ndedicat ed\\nto\\nthis\\nproject,\\nand\\nresour ce\\nallocation\\nmay\\nbe\\nshared\\namong\\nmultiple\\nproject s\\nor\\ntasks.\\nThis\\nconstraint\\nshould\\nbe\\nconsider ed\\nwhen\\nplanning\\nand\\nscheduling\\nproject\\nactivities.\\n12\\n\",\n",
       "   'page': 11.0}),\n",
       " ('page_content',\n",
       "  \"●\\nIntegration\\nLandscape\\n●\\nCI/CD\\nPipeline\\nLandscape\\n●\\nDeplo yment\\nLandscape\\n(not\\nsure)\\nDocuments\\n●\\nTechnology\\nStack\\n●\\nSyst em\\nspecs,\\ndependencies,\\nand\\nversions\\n●\\nCloud\\nand\\nHardwar e\\nspecifications\\nand\\nusage\\n●\\nManual\\nprocesses\\nlisting\\nand\\ndependencies\\n●\\nIntegration\\nwith\\n3rd\\nparty\\nservices\\n●\\nCode\\nQuality\\nChar ts/Repor ts\\n●\\nDatabase\\nQuality\\nChar ts/Repor ts\\n(not\\nsure)\\n●\\nCI/CD\\nPipeline\\nReview\\nand\\nRecommendations\\n●\\nDeplo yment\\nReview\\nand\\nRecommendations\\nExpected\\nDeliverables\\n\\x00Phase\\n2\\x00\\nTBD.\\nTime\\nand\\nResource\\nAllocation\\n●\\nIdeally ,\\neach\\n15\\nman\\ndays\\nphase\\nshould\\nspan\\na\\n5-week\\nperiod\\nto\\naccommodat e\\nthe\\ntime\\nrequir ed\\nfor\\nthe\\nclient's\\nteam\\nto\\nreview\\nthe\\ndeliv erables\\non\\na\\nweekly\\nbasis.\\n●\\nOur\\nteam's\\ncapabilities\\nare\\nnot\\nsolely\\ndedicat ed\\nto\\nthis\\nproject,\\nand\\nresour ce\\nallocation\\nmay\\nbe\\nshared\\namong\\nmultiple\\nproject s\\nor\\ntasks.\\nThis\\nconstraint\\nshould\\nbe\\nconsider ed\\nwhen\\nplanning\\nand\\nscheduling\\nproject\\nactivities.\\n12\\n\"),\n",
       " ('type', 'Document'),\n",
       " ('id', None),\n",
       " ('metadata',\n",
       "  {'source': 'Week\\n3\\n-\\n4\\nTasks\\n4\\n-\\n5\\n●\\nImplementation\\nof\\nContinuous\\nIntegration\\nand\\nContinuous\\nDeplo yment\\n\\x00CI/CD\\x00\\npipeline\\nfor\\nseamless\\ncode\\nintegration\\nand\\ndeplo yment\\n(at\\nleast\\ntest\\nthe\\nprocess\\nwith\\nin-house\\nteam\\n3\\nfeatur es).\\n\\x00P2_W3_ T4\\x00\\n●\\nDevOps\\nadvisor y\\nto\\nstreamline\\ndevelopment,\\ntesting,\\nand\\ndeplo yment\\nworkflo ws.\\n\\x00P2_W 4_T5\\x00\\nWeek\\n5\\nTask\\n6\\n●\\nExploration\\nof\\nauto-scaling\\nand\\nrollback\\nmechanisms\\nto\\nensur e\\nsystem\\nreliability\\nand\\navailability .\\n\\x00P2_W5_ T6\\x00\\nTimeline\\nExpected\\nDeliverables\\n\\x00Phase\\n1\\x00\\nC4\\nModels\\n●\\nHigh\\nLevel\\nSolution\\nArchitectur e\\n●\\nLogical\\nArchitectur e\\n●\\nApplication\\nLandscape\\n●\\nPhysical\\nLandscape\\n11\\n',\n",
       "   'page': 10.0}),\n",
       " ('page_content',\n",
       "  'Week\\n3\\n-\\n4\\nTasks\\n4\\n-\\n5\\n●\\nImplementation\\nof\\nContinuous\\nIntegration\\nand\\nContinuous\\nDeplo yment\\n\\x00CI/CD\\x00\\npipeline\\nfor\\nseamless\\ncode\\nintegration\\nand\\ndeplo yment\\n(at\\nleast\\ntest\\nthe\\nprocess\\nwith\\nin-house\\nteam\\n3\\nfeatur es).\\n\\x00P2_W3_ T4\\x00\\n●\\nDevOps\\nadvisor y\\nto\\nstreamline\\ndevelopment,\\ntesting,\\nand\\ndeplo yment\\nworkflo ws.\\n\\x00P2_W 4_T5\\x00\\nWeek\\n5\\nTask\\n6\\n●\\nExploration\\nof\\nauto-scaling\\nand\\nrollback\\nmechanisms\\nto\\nensur e\\nsystem\\nreliability\\nand\\navailability .\\n\\x00P2_W5_ T6\\x00\\nTimeline\\nExpected\\nDeliverables\\n\\x00Phase\\n1\\x00\\nC4\\nModels\\n●\\nHigh\\nLevel\\nSolution\\nArchitectur e\\n●\\nLogical\\nArchitectur e\\n●\\nApplication\\nLandscape\\n●\\nPhysical\\nLandscape\\n11\\n'),\n",
       " ('type', 'Document'),\n",
       " ('id', None),\n",
       " ('metadata',\n",
       "  {'source': \"Introduction\\nThis\\ndocument\\ndelineat es\\na\\ncompr ehensiv e\\ninitiativ e\\naimed\\nat\\ndocumenting\\nthe\\nsystem\\narchitectur e\\nand\\nimplementing\\ndeplo yment\\nstrat egies\\nto\\nimpr ove\\nscalability\\nand\\nefficienc y\\nfor\\nthe\\nEBOOST\\nDragon\\nProject.\\nIt\\nis\\ndivided\\ninto\\ntwo\\ndistinct\\nphases:\\n●\\nSyst em\\nDocumentation\\n●\\nDeplo yment/Implementation\\nConstraints\\n●\\nA\\nkickoff\\nmeeting\\nwith\\nthe\\nclient\\nmust\\nbe\\nscheduled\\nprior\\nto\\nstarting\\nthe\\nproject\\nto\\ndefine\\ncontact\\npoint s\\nand\\nestablish\\nproject\\nscope.\\n●\\nAccess\\nto\\nessential\\ntools\\nand\\nplatf orms\\nsuch\\nas\\nGit,\\nCI/CD ,\\nand\\nGCP\\nmust\\nbe\\ngrant ed\\nbefore\\nPhase\\n1\\nbegins.\\n●\\nAll\\nrelevant\\ndocumentation,\\nincluding\\nupdat es\\nfrom\\nthe\\nclient,\\nmust\\nbe\\nprovided\\nbefore\\nPhase\\n1\\nstarts\\nto\\nassist\\nwith\\nreference\\nand\\nintegration\\ninto\\nthe\\nproject.\\n●\\nAvailability\\nof\\nproject\\nteam\\nmembers\\nand\\nrequir ed\\nresour ces\\nmust\\nbe\\nensur ed\\naccor ding\\nto\\nthe\\nagreed\\ntimeline.\\n●\\nKey\\nstakeholders\\nmust\\nbe\\naccessible\\nfor\\nmeetings,\\nreviews,\\nand\\ndecision-making\\nprocesses\\nthroughout\\nthe\\nproject's\\nlifecycle.\\nRisk\\nManagement\\nPlan\\nThis\\nsection\\noutlines\\npotential\\nrisks\\nassociat ed\\nwith\\nthe\\nproject\\nand\\nproposes\\nmitigation\\nstrat egies\\nto\\nensur e\\nsuccessful\\ncompletion.\\n5\\n\",\n",
       "   'page': 4.0}),\n",
       " ('page_content',\n",
       "  \"Introduction\\nThis\\ndocument\\ndelineat es\\na\\ncompr ehensiv e\\ninitiativ e\\naimed\\nat\\ndocumenting\\nthe\\nsystem\\narchitectur e\\nand\\nimplementing\\ndeplo yment\\nstrat egies\\nto\\nimpr ove\\nscalability\\nand\\nefficienc y\\nfor\\nthe\\nEBOOST\\nDragon\\nProject.\\nIt\\nis\\ndivided\\ninto\\ntwo\\ndistinct\\nphases:\\n●\\nSyst em\\nDocumentation\\n●\\nDeplo yment/Implementation\\nConstraints\\n●\\nA\\nkickoff\\nmeeting\\nwith\\nthe\\nclient\\nmust\\nbe\\nscheduled\\nprior\\nto\\nstarting\\nthe\\nproject\\nto\\ndefine\\ncontact\\npoint s\\nand\\nestablish\\nproject\\nscope.\\n●\\nAccess\\nto\\nessential\\ntools\\nand\\nplatf orms\\nsuch\\nas\\nGit,\\nCI/CD ,\\nand\\nGCP\\nmust\\nbe\\ngrant ed\\nbefore\\nPhase\\n1\\nbegins.\\n●\\nAll\\nrelevant\\ndocumentation,\\nincluding\\nupdat es\\nfrom\\nthe\\nclient,\\nmust\\nbe\\nprovided\\nbefore\\nPhase\\n1\\nstarts\\nto\\nassist\\nwith\\nreference\\nand\\nintegration\\ninto\\nthe\\nproject.\\n●\\nAvailability\\nof\\nproject\\nteam\\nmembers\\nand\\nrequir ed\\nresour ces\\nmust\\nbe\\nensur ed\\naccor ding\\nto\\nthe\\nagreed\\ntimeline.\\n●\\nKey\\nstakeholders\\nmust\\nbe\\naccessible\\nfor\\nmeetings,\\nreviews,\\nand\\ndecision-making\\nprocesses\\nthroughout\\nthe\\nproject's\\nlifecycle.\\nRisk\\nManagement\\nPlan\\nThis\\nsection\\noutlines\\npotential\\nrisks\\nassociat ed\\nwith\\nthe\\nproject\\nand\\nproposes\\nmitigation\\nstrat egies\\nto\\nensur e\\nsuccessful\\ncompletion.\\n5\\n\"),\n",
       " ('type', 'Document'),\n",
       " ('id', None),\n",
       " ('metadata',\n",
       "  {'source': 'A\\nDocument\\nAppr oval\\nBaseline\\nVersion\\nApproved\\nDate\\nReviewer\\nApprover\\nDocument\\nRevision\\nHistory\\nVersion\\nDate\\nAuthor\\nChange\\nDescription\\n0.1\\n08/03/2024\\nRossano\\nSzczepanski\\nFirst\\nversion\\n0.2\\n14/03/2024\\nRossano\\nSzczepanski\\nRisk\\nmanagement\\nplan\\n0.3\\n14/03/2024\\nRossano\\nSzczepanski\\nPhase\\n1\\nTimeline\\nhas\\nupdated\\nas\\nrequested\\n0.4\\n15/03/2024\\nRossano\\nSzczepanski\\nUpdated\\nProject\\nGoals\\ntexting\\n4\\n',\n",
       "   'page': 3.0}),\n",
       " ('page_content',\n",
       "  'A\\nDocument\\nAppr oval\\nBaseline\\nVersion\\nApproved\\nDate\\nReviewer\\nApprover\\nDocument\\nRevision\\nHistory\\nVersion\\nDate\\nAuthor\\nChange\\nDescription\\n0.1\\n08/03/2024\\nRossano\\nSzczepanski\\nFirst\\nversion\\n0.2\\n14/03/2024\\nRossano\\nSzczepanski\\nRisk\\nmanagement\\nplan\\n0.3\\n14/03/2024\\nRossano\\nSzczepanski\\nPhase\\n1\\nTimeline\\nhas\\nupdated\\nas\\nrequested\\n0.4\\n15/03/2024\\nRossano\\nSzczepanski\\nUpdated\\nProject\\nGoals\\ntexting\\n4\\n'),\n",
       " ('type', 'Document')]"
      ]
     },
     "execution_count": 12,
     "metadata": {},
     "output_type": "execute_result"
    }
   ],
   "source": [
    "tenant_docs"
   ]
  },
  {
   "cell_type": "code",
   "execution_count": 14,
   "metadata": {},
   "outputs": [
    {
     "name": "stdout",
     "output_type": "stream",
     "text": [
      "The EBOOST Dragon Project is a two-phase initiative aimed at enhancing system understanding, scalability, and efficiency. Phase 1 focuses on documenting system architecture and processes, while Phase 2 emphasizes deployment and implementation strategies. The project has inter-team dependencies and a knowledge gap that need to be addressed through clear communication protocols and providing detailed information. Effective communication management, collaborative confidence building, and mitigating unforeseen external delays are also important considerations. The project goals include setting up and operating the testing system, transitioning to the production environment smoothly, implementing CI/CD processes, and thoroughly documenting the new setup and processes. The timeline and resource allocation constraints should be taken into account, and regular progress reviews and status updates are recommended to maintain transparency and manage expectations.\n"
     ]
    }
   ],
   "source": [
    "print(stuff_chain.run(tenant_docs))"
   ]
  }
 ],
 "metadata": {
  "kernelspec": {
   "display_name": "sma",
   "language": "python",
   "name": "python3"
  },
  "language_info": {
   "codemirror_mode": {
    "name": "ipython",
    "version": 3
   },
   "file_extension": ".py",
   "mimetype": "text/x-python",
   "name": "python",
   "nbconvert_exporter": "python",
   "pygments_lexer": "ipython3",
   "version": "3.10.15"
  }
 },
 "nbformat": 4,
 "nbformat_minor": 2
}
